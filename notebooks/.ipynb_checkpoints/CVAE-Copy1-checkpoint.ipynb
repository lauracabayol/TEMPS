{
 "cells": [
  {
   "cell_type": "code",
   "execution_count": 1,
   "id": "10a00e46-827a-4278-a715-99526591a0a7",
   "metadata": {
    "tags": []
   },
   "outputs": [],
   "source": [
    "import torch.nn as nn\n",
    "import torch\n",
    "class CondVAE(nn.Module):\n",
    "    def __init__(self, dim_input, latent_dim=10, context_vector_size=6):\n",
    "        super(CondVAE, self).__init__()\n",
    "        \n",
    "        self.latent_dim = latent_dim\n",
    "\n",
    "        # Encoder\n",
    "        self.encoder = nn.Sequential(\n",
    "            nn.Linear(in_features=dim_input, out_features=100),\n",
    "            nn.ReLU(),\n",
    "            nn.Linear(in_features=100, out_features=200),\n",
    "            nn.ReLU(),\n",
    "            nn.Linear(in_features=200, out_features=300),\n",
    "            nn.ReLU(),\n",
    "            nn.Linear(in_features=300, out_features=200),\n",
    "            nn.ReLU(),\n",
    "            nn.Linear(in_features=200, out_features=100),\n",
    "            nn.ReLU(),\n",
    "            nn.Flatten()\n",
    "        )\n",
    "        \n",
    "        self.fc_mu = nn.Linear(100, latent_dim)\n",
    "        self.fc_logvar = nn.Linear(100, latent_dim)\n",
    "\n",
    "        # Decoder\n",
    "        self.decoder = nn.Sequential(\n",
    "            nn.Linear(in_features=latent_dim+6, out_features=100),\n",
    "            nn.ReLU(),\n",
    "            nn.Linear(in_features=100, out_features=200),\n",
    "            nn.ReLU(),\n",
    "            nn.Linear(in_features=200, out_features=300),\n",
    "            nn.ReLU(),\n",
    "            nn.Linear(in_features=300, out_features=200),\n",
    "            nn.ReLU(),\n",
    "            nn.Linear(in_features=200, out_features=100),\n",
    "            nn.ReLU(),\n",
    "            nn.Linear(in_features=100, out_features=1),\n",
    "        )\n",
    "\n",
    "    def encode(self, x):\n",
    "        x = self.encoder(x)\n",
    "        mu = self.fc_mu(x)\n",
    "        log_var = self.fc_logvar(x)\n",
    "\n",
    "        return mu, log_var\n",
    "    \n",
    "    def decode(self, z, context_vector):\n",
    "        # Concatenate the sampling (latent distribution) + embedding -> samples conditioned on both the input data and the specified label\n",
    "        #print(properties.shape, z.shape)\n",
    "        zcomb = torch.concat((z, context_vector), 1)\n",
    "        #print(zcomb.shape)\n",
    "        \n",
    "        return self.decoder(zcomb)     \n",
    "    \n",
    "    def sampling(self, mu, log_var):\n",
    "        # calculate standard deviation\n",
    "        std = log_var.mul(0.5).exp_()\n",
    "        \n",
    "        # create noise tensor of same size as std to add to the latent vector\n",
    "        eps = torch.cuda.FloatTensor(std.size()).normal_()\n",
    "        \n",
    "        # multiply eps with std to scale the random noise according to the learned distribution + add combined\n",
    "        return eps.mul(std).add_(mu) # return z sample \n",
    "\n",
    "    def forward(self, x, context_vector):\n",
    "        mu, log_var = self.encode(x)\n",
    "        z = self.sampling(mu, log_var)\n",
    "        #print(z.shape)\n",
    "\n",
    "        return self.decode(z, context_vector), mu, log_var\n"
   ]
  },
  {
   "cell_type": "code",
   "execution_count": 2,
   "id": "8bbbe719-f9a3-4ace-ac4c-ed29ec4f9486",
   "metadata": {
    "tags": []
   },
   "outputs": [],
   "source": [
    "import tqdm\n",
    "import torch\n",
    "import torch.nn as nn\n",
    "\n",
    "def condvae_loss(pred, label, mu, logvar):\n",
    "    \"\"\"\n",
    "    Calculate the conditional Variational Autoencoder (cVAE) loss.\n",
    "\n",
    "    This function computes the cVAE loss, which consists of two components:\n",
    "    - Reconstruction loss: Measures the discrepancy between the reconstructed\n",
    "      data and the original input.\n",
    "    - KL divergence loss: Quantifies the difference between the learned latent\n",
    "      distribution and the desired prior distribution (Gaussian).\n",
    "\n",
    "    Args:\n",
    "        recon_x (torch.Tensor): Reconstructed data from the VAE.\n",
    "        x (torch.Tensor): Original input data.\n",
    "        mu (torch.Tensor): Latent variable mean.\n",
    "        logvar (torch.Tensor): Logarithm of latent variable variance.\n",
    "\n",
    "    Returns:\n",
    "        torch.Tensor: Computed cVAE loss.\n",
    "    \"\"\"\n",
    "    \n",
    "    # MSE loss element-wise and sums up the individual losses\n",
    "    cde_loss = nn.MSELoss(reduction='mean')(pred, label)\n",
    "    \n",
    "    # quantifies the difference between the learned latent distribution and the desired prior distribution (Gaussian)\n",
    "    kl_divergence = -0.5 * torch.sum(1 + logvar - mu.pow(2) - logvar.exp())\n",
    "    \n",
    "    return cde_loss + kl_divergence\n",
    "\n",
    "def VAE_trainEpoch(model, optimizer, train_loader, dim_in=100):\n",
    "    \"\"\"\n",
    "    Train a Variational Autoencoder (VAE) for one epoch.\n",
    "\n",
    "    This function trains a VAE for one epoch using the provided data loader.\n",
    "    It calculates the cVAE loss, performs backpropagation, and updates the model's parameters.\n",
    "\n",
    "    Args:\n",
    "        model (nn.Module): VAE model to be trained.\n",
    "        optimizer (torch.optim.Optimizer): Optimizer for updating model parameters.\n",
    "        train_loader (DataLoader): DataLoader containing training data.\n",
    "        dim_in (int): Dimensionality of the input noise.\n",
    "\n",
    "    Returns:\n",
    "        float: Average loss for the epoch.\n",
    "    \"\"\"\n",
    "    model = model.train()\n",
    "    device = torch.device(\"cuda\" if torch.cuda.is_available() else \"cpu\")\n",
    "    total_loss = 0\n",
    "\n",
    "    progress_bar = tqdm.tqdm(train_loader, desc=\"Epoch Progress\", leave=False)\n",
    "    for context_vector, label in progress_bar:\n",
    "        context_vector = context_vector.to(device)\n",
    "        datain = torch.randn(size=(len(context_vector), dim_in)).to(device)\n",
    "        label = label.unsqueeze(1).cuda()\n",
    "        optimizer.zero_grad()\n",
    "\n",
    "        recon_batch, mu, log_var = model(datain, context_vector)\n",
    "        loss = condvae_loss(recon_batch, label, mu, log_var)\n",
    "\n",
    "        loss.backward()\n",
    "        optimizer.step()\n",
    "\n",
    "        total_loss += loss.item()\n",
    "        progress_bar.set_postfix({\"Loss\": total_loss / (progress_bar.n + 1)})\n",
    "\n",
    "    return total_loss / len(train_loader)\n",
    "\n",
    "def VAE_train(model, optimizer, train_loader, epochs, dim_in, save_path=None):\n",
    "    \"\"\"\n",
    "    Train a Variational Autoencoder (VAE) for multiple epochs.\n",
    "\n",
    "    This function trains a VAE for the specified number of epochs using the provided data loader.\n",
    "    It prints the epoch progress and the computed loss for each epoch.\n",
    "\n",
    "    Args:\n",
    "        model (nn.Module): VAE model to be trained.\n",
    "        optimizer (torch.optim.Optimizer): Optimizer for updating model parameters.\n",
    "        train_loader (DataLoader): DataLoader containing training data.\n",
    "        epochs (int): Number of epochs for training.\n",
    "\n",
    "    Returns:\n",
    "        None\n",
    "    \"\"\"\n",
    "    for epoch in range(epochs):\n",
    "        print(f\"Epoch {epoch + 1}/{epochs}\")\n",
    "        epoch_loss = VAE_trainEpoch(model, optimizer, train_loader, dim_in)\n",
    "        print(f\"Epoch {epoch + 1}/{epochs}, Loss: {epoch_loss:.4f}\")\n",
    "        \n",
    "    if save_path!=None:\n",
    "        torch.save(model, save_path)\n",
    "\n"
   ]
  },
  {
   "cell_type": "code",
   "execution_count": 3,
   "id": "11aaa0e9-e745-483a-887d-d851e791f8e4",
   "metadata": {
    "tags": []
   },
   "outputs": [],
   "source": [
    "import numpy as np\n",
    "import pandas as pd\n",
    "from astropy.io import fits\n",
    "import os\n",
    "from astropy.table import Table\n",
    "from scipy.spatial import KDTree\n",
    "\n",
    "import matplotlib.pyplot as plt\n",
    "\n",
    "from IPython.display import Image\n",
    "from IPython.core.display import HTML "
   ]
  },
  {
   "cell_type": "code",
   "execution_count": 4,
   "id": "0814440a-e341-4540-bfba-466b74b9873d",
   "metadata": {
    "tags": []
   },
   "outputs": [],
   "source": [
    "import torch\n",
    "from torch.utils.data import DataLoader, dataset, TensorDataset\n",
    "from torch import nn, optim\n",
    "from torch.optim import lr_scheduler"
   ]
  },
  {
   "cell_type": "code",
   "execution_count": 5,
   "id": "8ecf9b60-bd03-4fa6-9516-c767d04b2071",
   "metadata": {
    "tags": []
   },
   "outputs": [],
   "source": [
    "import sys\n",
    "sys.path.append('../insight')\n",
    "from archive import archive \n",
    "from insight_arch import Photoz_network\n",
    "from insight import Insight_module\n",
    "from utils import sigma68, nmad, plot_photoz_estimates\n",
    "from scipy import stats"
   ]
  },
  {
   "cell_type": "code",
   "execution_count": 272,
   "id": "1277097d-e4bb-4bdd-b1f4-bccc88be0169",
   "metadata": {
    "tags": []
   },
   "outputs": [],
   "source": [
    "from matplotlib import rcParams\n",
    "rcParams[\"mathtext.fontset\"] = \"stix\"\n",
    "rcParams[\"font.family\"] = \"STIXGeneral\"\n",
    "parent_dir = '/data/astro/scratch/lcabayol/Euclid/NNphotozs/Euclid_EXT_MER_PHZ_DC2_v1.5'"
   ]
  },
  {
   "cell_type": "code",
   "execution_count": 273,
   "id": "5d2d3713-ff7f-4f16-860f-cf5ff42801b1",
   "metadata": {
    "tags": []
   },
   "outputs": [],
   "source": [
    "photoz_archive = archive(path = parent_dir, Qz_cut=1)\n",
    "f, ferr, specz, specqz = photoz_archive.get_training_data()"
   ]
  },
  {
   "cell_type": "code",
   "execution_count": 274,
   "id": "45af2d9e-1160-4859-9888-f5daf62df84a",
   "metadata": {
    "tags": []
   },
   "outputs": [],
   "source": [
    "dset = TensorDataset(torch.Tensor(f),torch.Tensor(specz))\n",
    "loader = DataLoader(dset, batch_size=100, shuffle=True)"
   ]
  },
  {
   "cell_type": "code",
   "execution_count": 275,
   "id": "dad8733c-c36a-4e86-b32d-41c244ba6259",
   "metadata": {
    "tags": []
   },
   "outputs": [],
   "source": [
    "dim_input=50\n",
    "latent_dim=10\n",
    "context_vector_dim=6\n",
    "epochs=100\n",
    "device = torch.device(\"cuda\" if torch.cuda.is_available() else \"cpu\")\n"
   ]
  },
  {
   "cell_type": "code",
   "execution_count": 276,
   "id": "ef0b6560-dd3d-4b9d-a14c-43bf9338f7a4",
   "metadata": {
    "tags": []
   },
   "outputs": [],
   "source": [
    "vae = CondVAE(dim_input, latent_dim=latent_dim, context_vector_size=6).to(device)\n",
    "optimizer = optim.Adam(vae.parameters(), lr=1e-3, weight_decay=1e-4)\n"
   ]
  },
  {
   "cell_type": "code",
   "execution_count": null,
   "id": "dd04d484-d14d-488d-a640-180fb6ab1001",
   "metadata": {
    "collapsed": true,
    "jupyter": {
     "outputs_hidden": true
    },
    "tags": []
   },
   "outputs": [
    {
     "name": "stdout",
     "output_type": "stream",
     "text": [
      "Epoch 1/100\n"
     ]
    },
    {
     "name": "stderr",
     "output_type": "stream",
     "text": [
      "                                                                            \r"
     ]
    },
    {
     "name": "stdout",
     "output_type": "stream",
     "text": [
      "Epoch 1/100, Loss: 70.1670\n",
      "Epoch 2/100\n"
     ]
    },
    {
     "name": "stderr",
     "output_type": "stream",
     "text": [
      "                                                                            \r"
     ]
    },
    {
     "name": "stdout",
     "output_type": "stream",
     "text": [
      "Epoch 2/100, Loss: 5.8741\n",
      "Epoch 3/100\n"
     ]
    },
    {
     "name": "stderr",
     "output_type": "stream",
     "text": [
      "                                                                             \r"
     ]
    },
    {
     "name": "stdout",
     "output_type": "stream",
     "text": [
      "Epoch 3/100, Loss: 0.4596\n",
      "Epoch 4/100\n"
     ]
    },
    {
     "name": "stderr",
     "output_type": "stream",
     "text": [
      "                                                                             \r"
     ]
    },
    {
     "name": "stdout",
     "output_type": "stream",
     "text": [
      "Epoch 4/100, Loss: 0.9228\n",
      "Epoch 5/100\n"
     ]
    },
    {
     "name": "stderr",
     "output_type": "stream",
     "text": [
      "                                                                             \r"
     ]
    },
    {
     "name": "stdout",
     "output_type": "stream",
     "text": [
      "Epoch 5/100, Loss: 0.5939\n",
      "Epoch 6/100\n"
     ]
    },
    {
     "name": "stderr",
     "output_type": "stream",
     "text": [
      "                                                                             \r"
     ]
    },
    {
     "name": "stdout",
     "output_type": "stream",
     "text": [
      "Epoch 6/100, Loss: 0.7836\n",
      "Epoch 7/100\n"
     ]
    },
    {
     "name": "stderr",
     "output_type": "stream",
     "text": [
      "                                                                             \r"
     ]
    },
    {
     "name": "stdout",
     "output_type": "stream",
     "text": [
      "Epoch 7/100, Loss: 0.4829\n",
      "Epoch 8/100\n"
     ]
    },
    {
     "name": "stderr",
     "output_type": "stream",
     "text": [
      "                                                                             \r"
     ]
    },
    {
     "name": "stdout",
     "output_type": "stream",
     "text": [
      "Epoch 8/100, Loss: 0.5570\n",
      "Epoch 9/100\n"
     ]
    },
    {
     "name": "stderr",
     "output_type": "stream",
     "text": [
      "                                                                             \r"
     ]
    },
    {
     "name": "stdout",
     "output_type": "stream",
     "text": [
      "Epoch 9/100, Loss: 0.4176\n",
      "Epoch 10/100\n"
     ]
    },
    {
     "name": "stderr",
     "output_type": "stream",
     "text": [
      "                                                                            \r"
     ]
    },
    {
     "name": "stdout",
     "output_type": "stream",
     "text": [
      "Epoch 10/100, Loss: 0.9913\n",
      "Epoch 11/100\n"
     ]
    },
    {
     "name": "stderr",
     "output_type": "stream",
     "text": [
      "                                                                             \r"
     ]
    },
    {
     "name": "stdout",
     "output_type": "stream",
     "text": [
      "Epoch 11/100, Loss: 0.3367\n",
      "Epoch 12/100\n"
     ]
    },
    {
     "name": "stderr",
     "output_type": "stream",
     "text": [
      "                                                                             \r"
     ]
    },
    {
     "name": "stdout",
     "output_type": "stream",
     "text": [
      "Epoch 12/100, Loss: 0.3655\n",
      "Epoch 13/100\n"
     ]
    },
    {
     "name": "stderr",
     "output_type": "stream",
     "text": [
      "                                                                             \r"
     ]
    },
    {
     "name": "stdout",
     "output_type": "stream",
     "text": [
      "Epoch 13/100, Loss: 0.2642\n",
      "Epoch 14/100\n"
     ]
    },
    {
     "name": "stderr",
     "output_type": "stream",
     "text": [
      "                                                                             \r"
     ]
    },
    {
     "name": "stdout",
     "output_type": "stream",
     "text": [
      "Epoch 14/100, Loss: 0.2729\n",
      "Epoch 15/100\n"
     ]
    },
    {
     "name": "stderr",
     "output_type": "stream",
     "text": [
      "                                                                             \r"
     ]
    },
    {
     "name": "stdout",
     "output_type": "stream",
     "text": [
      "Epoch 15/100, Loss: 0.2490\n",
      "Epoch 16/100\n"
     ]
    },
    {
     "name": "stderr",
     "output_type": "stream",
     "text": [
      "                                                                             \r"
     ]
    },
    {
     "name": "stdout",
     "output_type": "stream",
     "text": [
      "Epoch 16/100, Loss: 0.2426\n",
      "Epoch 17/100\n"
     ]
    },
    {
     "name": "stderr",
     "output_type": "stream",
     "text": [
      "                                                                             \r"
     ]
    },
    {
     "name": "stdout",
     "output_type": "stream",
     "text": [
      "Epoch 17/100, Loss: 0.2418\n",
      "Epoch 18/100\n"
     ]
    },
    {
     "name": "stderr",
     "output_type": "stream",
     "text": [
      "                                                                             \r"
     ]
    },
    {
     "name": "stdout",
     "output_type": "stream",
     "text": [
      "Epoch 18/100, Loss: 0.2341\n",
      "Epoch 19/100\n"
     ]
    },
    {
     "name": "stderr",
     "output_type": "stream",
     "text": [
      "                                                                             \r"
     ]
    },
    {
     "name": "stdout",
     "output_type": "stream",
     "text": [
      "Epoch 19/100, Loss: 0.2288\n",
      "Epoch 20/100\n"
     ]
    },
    {
     "name": "stderr",
     "output_type": "stream",
     "text": [
      "                                                                             \r"
     ]
    },
    {
     "name": "stdout",
     "output_type": "stream",
     "text": [
      "Epoch 20/100, Loss: 0.2216\n",
      "Epoch 21/100\n"
     ]
    },
    {
     "name": "stderr",
     "output_type": "stream",
     "text": [
      "                                                                             \r"
     ]
    },
    {
     "name": "stdout",
     "output_type": "stream",
     "text": [
      "Epoch 21/100, Loss: 0.2200\n",
      "Epoch 22/100\n"
     ]
    },
    {
     "name": "stderr",
     "output_type": "stream",
     "text": [
      "                                                                             \r"
     ]
    },
    {
     "name": "stdout",
     "output_type": "stream",
     "text": [
      "Epoch 22/100, Loss: 0.2140\n",
      "Epoch 23/100\n"
     ]
    },
    {
     "name": "stderr",
     "output_type": "stream",
     "text": [
      "                                                                             \r"
     ]
    },
    {
     "name": "stdout",
     "output_type": "stream",
     "text": [
      "Epoch 23/100, Loss: 0.2125\n",
      "Epoch 24/100\n"
     ]
    },
    {
     "name": "stderr",
     "output_type": "stream",
     "text": [
      "                                                                             \r"
     ]
    },
    {
     "name": "stdout",
     "output_type": "stream",
     "text": [
      "Epoch 24/100, Loss: 0.2178\n",
      "Epoch 25/100\n"
     ]
    },
    {
     "name": "stderr",
     "output_type": "stream",
     "text": [
      "                                                                             \r"
     ]
    },
    {
     "name": "stdout",
     "output_type": "stream",
     "text": [
      "Epoch 25/100, Loss: 0.2127\n",
      "Epoch 26/100\n"
     ]
    },
    {
     "name": "stderr",
     "output_type": "stream",
     "text": [
      "                                                                             \r"
     ]
    },
    {
     "name": "stdout",
     "output_type": "stream",
     "text": [
      "Epoch 26/100, Loss: 0.2057\n",
      "Epoch 27/100\n"
     ]
    },
    {
     "name": "stderr",
     "output_type": "stream",
     "text": [
      "                                                                             \r"
     ]
    },
    {
     "name": "stdout",
     "output_type": "stream",
     "text": [
      "Epoch 27/100, Loss: 0.2168\n",
      "Epoch 28/100\n"
     ]
    },
    {
     "name": "stderr",
     "output_type": "stream",
     "text": [
      "                                                                             \r"
     ]
    },
    {
     "name": "stdout",
     "output_type": "stream",
     "text": [
      "Epoch 28/100, Loss: 0.2043\n",
      "Epoch 29/100\n"
     ]
    },
    {
     "name": "stderr",
     "output_type": "stream",
     "text": [
      "                                                                             \r"
     ]
    },
    {
     "name": "stdout",
     "output_type": "stream",
     "text": [
      "Epoch 29/100, Loss: 0.2039\n",
      "Epoch 30/100\n"
     ]
    },
    {
     "name": "stderr",
     "output_type": "stream",
     "text": [
      "                                                                             \r"
     ]
    },
    {
     "name": "stdout",
     "output_type": "stream",
     "text": [
      "Epoch 30/100, Loss: 0.1975\n",
      "Epoch 31/100\n"
     ]
    },
    {
     "name": "stderr",
     "output_type": "stream",
     "text": [
      "                                                                             \r"
     ]
    },
    {
     "name": "stdout",
     "output_type": "stream",
     "text": [
      "Epoch 31/100, Loss: 0.1956\n",
      "Epoch 32/100\n"
     ]
    },
    {
     "name": "stderr",
     "output_type": "stream",
     "text": [
      "                                                                             \r"
     ]
    },
    {
     "name": "stdout",
     "output_type": "stream",
     "text": [
      "Epoch 32/100, Loss: 0.1958\n",
      "Epoch 33/100\n"
     ]
    },
    {
     "name": "stderr",
     "output_type": "stream",
     "text": [
      "                                                                             \r"
     ]
    },
    {
     "name": "stdout",
     "output_type": "stream",
     "text": [
      "Epoch 33/100, Loss: 0.1893\n",
      "Epoch 34/100\n"
     ]
    },
    {
     "name": "stderr",
     "output_type": "stream",
     "text": [
      "                                                                             \r"
     ]
    },
    {
     "name": "stdout",
     "output_type": "stream",
     "text": [
      "Epoch 34/100, Loss: 0.1890\n",
      "Epoch 35/100\n"
     ]
    },
    {
     "name": "stderr",
     "output_type": "stream",
     "text": [
      "                                                                             \r"
     ]
    },
    {
     "name": "stdout",
     "output_type": "stream",
     "text": [
      "Epoch 35/100, Loss: 0.1869\n",
      "Epoch 36/100\n"
     ]
    },
    {
     "name": "stderr",
     "output_type": "stream",
     "text": [
      "                                                                             \r"
     ]
    },
    {
     "name": "stdout",
     "output_type": "stream",
     "text": [
      "Epoch 36/100, Loss: 0.1818\n",
      "Epoch 37/100\n"
     ]
    },
    {
     "name": "stderr",
     "output_type": "stream",
     "text": [
      "                                                                             \r"
     ]
    },
    {
     "name": "stdout",
     "output_type": "stream",
     "text": [
      "Epoch 37/100, Loss: 0.1784\n",
      "Epoch 38/100\n"
     ]
    },
    {
     "name": "stderr",
     "output_type": "stream",
     "text": [
      "                                                                             \r"
     ]
    },
    {
     "name": "stdout",
     "output_type": "stream",
     "text": [
      "Epoch 38/100, Loss: 0.1761\n",
      "Epoch 39/100\n"
     ]
    },
    {
     "name": "stderr",
     "output_type": "stream",
     "text": [
      "                                                                             \r"
     ]
    },
    {
     "name": "stdout",
     "output_type": "stream",
     "text": [
      "Epoch 39/100, Loss: 0.1757\n",
      "Epoch 40/100\n"
     ]
    },
    {
     "name": "stderr",
     "output_type": "stream",
     "text": [
      "                                                                             \r"
     ]
    },
    {
     "name": "stdout",
     "output_type": "stream",
     "text": [
      "Epoch 40/100, Loss: 0.1746\n",
      "Epoch 41/100\n"
     ]
    },
    {
     "name": "stderr",
     "output_type": "stream",
     "text": [
      "                                                                             \r"
     ]
    },
    {
     "name": "stdout",
     "output_type": "stream",
     "text": [
      "Epoch 41/100, Loss: 0.1756\n",
      "Epoch 42/100\n"
     ]
    },
    {
     "name": "stderr",
     "output_type": "stream",
     "text": [
      "                                                                             \r"
     ]
    },
    {
     "name": "stdout",
     "output_type": "stream",
     "text": [
      "Epoch 42/100, Loss: 0.1711\n",
      "Epoch 43/100\n"
     ]
    },
    {
     "name": "stderr",
     "output_type": "stream",
     "text": [
      "                                                                             \r"
     ]
    },
    {
     "name": "stdout",
     "output_type": "stream",
     "text": [
      "Epoch 43/100, Loss: 0.1706\n",
      "Epoch 44/100\n"
     ]
    },
    {
     "name": "stderr",
     "output_type": "stream",
     "text": [
      "                                                                             \r"
     ]
    },
    {
     "name": "stdout",
     "output_type": "stream",
     "text": [
      "Epoch 44/100, Loss: 0.1681\n",
      "Epoch 45/100\n"
     ]
    },
    {
     "name": "stderr",
     "output_type": "stream",
     "text": [
      "                                                                             \r"
     ]
    },
    {
     "name": "stdout",
     "output_type": "stream",
     "text": [
      "Epoch 45/100, Loss: 0.1672\n",
      "Epoch 46/100\n"
     ]
    },
    {
     "name": "stderr",
     "output_type": "stream",
     "text": [
      "                                                                             \r"
     ]
    },
    {
     "name": "stdout",
     "output_type": "stream",
     "text": [
      "Epoch 46/100, Loss: 0.1617\n",
      "Epoch 47/100\n"
     ]
    },
    {
     "name": "stderr",
     "output_type": "stream",
     "text": [
      "                                                                             \r"
     ]
    },
    {
     "name": "stdout",
     "output_type": "stream",
     "text": [
      "Epoch 47/100, Loss: 0.1637\n",
      "Epoch 48/100\n"
     ]
    },
    {
     "name": "stderr",
     "output_type": "stream",
     "text": [
      "                                                                             \r"
     ]
    },
    {
     "name": "stdout",
     "output_type": "stream",
     "text": [
      "Epoch 48/100, Loss: 0.1681\n",
      "Epoch 49/100\n"
     ]
    },
    {
     "name": "stderr",
     "output_type": "stream",
     "text": [
      "                                                                             \r"
     ]
    },
    {
     "name": "stdout",
     "output_type": "stream",
     "text": [
      "Epoch 49/100, Loss: 0.1637\n",
      "Epoch 50/100\n"
     ]
    },
    {
     "name": "stderr",
     "output_type": "stream",
     "text": [
      "                                                                             \r"
     ]
    },
    {
     "name": "stdout",
     "output_type": "stream",
     "text": [
      "Epoch 50/100, Loss: 0.1584\n",
      "Epoch 51/100\n"
     ]
    },
    {
     "name": "stderr",
     "output_type": "stream",
     "text": [
      "                                                                             \r"
     ]
    },
    {
     "name": "stdout",
     "output_type": "stream",
     "text": [
      "Epoch 51/100, Loss: 0.1591\n",
      "Epoch 52/100\n"
     ]
    },
    {
     "name": "stderr",
     "output_type": "stream",
     "text": [
      "                                                                             \r"
     ]
    },
    {
     "name": "stdout",
     "output_type": "stream",
     "text": [
      "Epoch 52/100, Loss: 0.1583\n",
      "Epoch 53/100\n"
     ]
    },
    {
     "name": "stderr",
     "output_type": "stream",
     "text": [
      "                                                                             \r"
     ]
    },
    {
     "name": "stdout",
     "output_type": "stream",
     "text": [
      "Epoch 53/100, Loss: 0.1536\n",
      "Epoch 54/100\n"
     ]
    },
    {
     "name": "stderr",
     "output_type": "stream",
     "text": [
      "                                                                             \r"
     ]
    },
    {
     "name": "stdout",
     "output_type": "stream",
     "text": [
      "Epoch 54/100, Loss: 0.1584\n",
      "Epoch 55/100\n"
     ]
    },
    {
     "name": "stderr",
     "output_type": "stream",
     "text": [
      "                                                                             \r"
     ]
    },
    {
     "name": "stdout",
     "output_type": "stream",
     "text": [
      "Epoch 55/100, Loss: 0.1624\n",
      "Epoch 56/100\n"
     ]
    },
    {
     "name": "stderr",
     "output_type": "stream",
     "text": [
      "                                                                             \r"
     ]
    },
    {
     "name": "stdout",
     "output_type": "stream",
     "text": [
      "Epoch 56/100, Loss: 0.1602\n",
      "Epoch 57/100\n"
     ]
    },
    {
     "name": "stderr",
     "output_type": "stream",
     "text": [
      "                                                                             \r"
     ]
    },
    {
     "name": "stdout",
     "output_type": "stream",
     "text": [
      "Epoch 57/100, Loss: 0.1547\n",
      "Epoch 58/100\n"
     ]
    },
    {
     "name": "stderr",
     "output_type": "stream",
     "text": [
      "                                                                             \r"
     ]
    },
    {
     "name": "stdout",
     "output_type": "stream",
     "text": [
      "Epoch 58/100, Loss: 0.1540\n",
      "Epoch 59/100\n"
     ]
    },
    {
     "name": "stderr",
     "output_type": "stream",
     "text": [
      "                                                                             \r"
     ]
    },
    {
     "name": "stdout",
     "output_type": "stream",
     "text": [
      "Epoch 59/100, Loss: 0.1541\n",
      "Epoch 60/100\n"
     ]
    },
    {
     "name": "stderr",
     "output_type": "stream",
     "text": [
      "                                                                             \r"
     ]
    },
    {
     "name": "stdout",
     "output_type": "stream",
     "text": [
      "Epoch 60/100, Loss: 0.1505\n",
      "Epoch 61/100\n"
     ]
    },
    {
     "name": "stderr",
     "output_type": "stream",
     "text": [
      "                                                                             \r"
     ]
    },
    {
     "name": "stdout",
     "output_type": "stream",
     "text": [
      "Epoch 61/100, Loss: 0.1521\n",
      "Epoch 62/100\n"
     ]
    },
    {
     "name": "stderr",
     "output_type": "stream",
     "text": [
      "                                                                             \r"
     ]
    },
    {
     "name": "stdout",
     "output_type": "stream",
     "text": [
      "Epoch 62/100, Loss: 0.1504\n",
      "Epoch 63/100\n"
     ]
    },
    {
     "name": "stderr",
     "output_type": "stream",
     "text": [
      "                                                                             \r"
     ]
    },
    {
     "name": "stdout",
     "output_type": "stream",
     "text": [
      "Epoch 63/100, Loss: 0.1505\n",
      "Epoch 64/100\n"
     ]
    },
    {
     "name": "stderr",
     "output_type": "stream",
     "text": [
      "                                                                             \r"
     ]
    },
    {
     "name": "stdout",
     "output_type": "stream",
     "text": [
      "Epoch 64/100, Loss: 0.1466\n",
      "Epoch 65/100\n"
     ]
    },
    {
     "name": "stderr",
     "output_type": "stream",
     "text": [
      "                                                                             \r"
     ]
    },
    {
     "name": "stdout",
     "output_type": "stream",
     "text": [
      "Epoch 65/100, Loss: 0.1463\n",
      "Epoch 66/100\n"
     ]
    },
    {
     "name": "stderr",
     "output_type": "stream",
     "text": [
      "                                                                             \r"
     ]
    },
    {
     "name": "stdout",
     "output_type": "stream",
     "text": [
      "Epoch 66/100, Loss: 0.1517\n",
      "Epoch 67/100\n"
     ]
    },
    {
     "name": "stderr",
     "output_type": "stream",
     "text": [
      "                                                                             \r"
     ]
    },
    {
     "name": "stdout",
     "output_type": "stream",
     "text": [
      "Epoch 67/100, Loss: 0.1461\n",
      "Epoch 68/100\n"
     ]
    },
    {
     "name": "stderr",
     "output_type": "stream",
     "text": [
      "                                                                             \r"
     ]
    },
    {
     "name": "stdout",
     "output_type": "stream",
     "text": [
      "Epoch 68/100, Loss: 0.1428\n",
      "Epoch 69/100\n"
     ]
    },
    {
     "name": "stderr",
     "output_type": "stream",
     "text": [
      "                                                                             \r"
     ]
    },
    {
     "name": "stdout",
     "output_type": "stream",
     "text": [
      "Epoch 69/100, Loss: 0.1457\n",
      "Epoch 70/100\n"
     ]
    },
    {
     "name": "stderr",
     "output_type": "stream",
     "text": [
      "                                                                             \r"
     ]
    },
    {
     "name": "stdout",
     "output_type": "stream",
     "text": [
      "Epoch 70/100, Loss: 0.1549\n",
      "Epoch 71/100\n"
     ]
    },
    {
     "name": "stderr",
     "output_type": "stream",
     "text": [
      "                                                                             \r"
     ]
    },
    {
     "name": "stdout",
     "output_type": "stream",
     "text": [
      "Epoch 71/100, Loss: 0.1504\n",
      "Epoch 72/100\n"
     ]
    },
    {
     "name": "stderr",
     "output_type": "stream",
     "text": [
      "                                                                             \r"
     ]
    },
    {
     "name": "stdout",
     "output_type": "stream",
     "text": [
      "Epoch 72/100, Loss: 0.1455\n",
      "Epoch 73/100\n"
     ]
    },
    {
     "name": "stderr",
     "output_type": "stream",
     "text": [
      "                                                                             \r"
     ]
    },
    {
     "name": "stdout",
     "output_type": "stream",
     "text": [
      "Epoch 73/100, Loss: 0.1425\n",
      "Epoch 74/100\n"
     ]
    },
    {
     "name": "stderr",
     "output_type": "stream",
     "text": [
      "                                                                             \r"
     ]
    },
    {
     "name": "stdout",
     "output_type": "stream",
     "text": [
      "Epoch 74/100, Loss: 0.1422\n",
      "Epoch 75/100\n"
     ]
    },
    {
     "name": "stderr",
     "output_type": "stream",
     "text": [
      "                                                                             \r"
     ]
    },
    {
     "name": "stdout",
     "output_type": "stream",
     "text": [
      "Epoch 75/100, Loss: 0.1421\n",
      "Epoch 76/100\n"
     ]
    },
    {
     "name": "stderr",
     "output_type": "stream",
     "text": [
      "                                                                             \r"
     ]
    },
    {
     "name": "stdout",
     "output_type": "stream",
     "text": [
      "Epoch 76/100, Loss: 0.1452\n",
      "Epoch 77/100\n"
     ]
    },
    {
     "name": "stderr",
     "output_type": "stream",
     "text": [
      "                                                                             \r"
     ]
    },
    {
     "name": "stdout",
     "output_type": "stream",
     "text": [
      "Epoch 77/100, Loss: 0.1479\n",
      "Epoch 78/100\n"
     ]
    },
    {
     "name": "stderr",
     "output_type": "stream",
     "text": [
      "                                                                             \r"
     ]
    },
    {
     "name": "stdout",
     "output_type": "stream",
     "text": [
      "Epoch 78/100, Loss: 0.1371\n",
      "Epoch 79/100\n"
     ]
    },
    {
     "name": "stderr",
     "output_type": "stream",
     "text": [
      "                                                                             \r"
     ]
    },
    {
     "name": "stdout",
     "output_type": "stream",
     "text": [
      "Epoch 79/100, Loss: 0.1323\n",
      "Epoch 80/100\n"
     ]
    },
    {
     "name": "stderr",
     "output_type": "stream",
     "text": [
      "                                                                             \r"
     ]
    },
    {
     "name": "stdout",
     "output_type": "stream",
     "text": [
      "Epoch 80/100, Loss: 0.1396\n",
      "Epoch 81/100\n"
     ]
    },
    {
     "name": "stderr",
     "output_type": "stream",
     "text": [
      "                                                                             \r"
     ]
    },
    {
     "name": "stdout",
     "output_type": "stream",
     "text": [
      "Epoch 81/100, Loss: 0.1373\n",
      "Epoch 82/100\n"
     ]
    },
    {
     "name": "stderr",
     "output_type": "stream",
     "text": [
      "                                                                             \r"
     ]
    },
    {
     "name": "stdout",
     "output_type": "stream",
     "text": [
      "Epoch 82/100, Loss: 0.1366\n",
      "Epoch 83/100\n"
     ]
    },
    {
     "name": "stderr",
     "output_type": "stream",
     "text": [
      "                                                                             \r"
     ]
    },
    {
     "name": "stdout",
     "output_type": "stream",
     "text": [
      "Epoch 83/100, Loss: 0.1334\n",
      "Epoch 84/100\n"
     ]
    },
    {
     "name": "stderr",
     "output_type": "stream",
     "text": [
      "Epoch Progress:  84%|████████▍ | 101/120 [00:01<00:00, 70.34it/s, Loss=0.133]"
     ]
    }
   ],
   "source": [
    "VAE_train(vae, optimizer, loader, epochs, dim_input, save_path=None)"
   ]
  },
  {
   "cell_type": "code",
   "execution_count": 278,
   "id": "3b7f5142-0db4-4ff9-8379-2a1d3db79537",
   "metadata": {
    "tags": []
   },
   "outputs": [],
   "source": [
    "f_test, ferr_test, specz_test = photoz_archive.get_testing_data()"
   ]
  },
  {
   "cell_type": "code",
   "execution_count": 279,
   "id": "0ea2e51f-1879-485e-a0c5-36b564ce5bc2",
   "metadata": {
    "tags": []
   },
   "outputs": [],
   "source": [
    "Ntest=10"
   ]
  },
  {
   "cell_type": "code",
   "execution_count": 301,
   "id": "f2a2896d-cfa1-4978-a403-5a1ac62ddbfc",
   "metadata": {
    "tags": []
   },
   "outputs": [],
   "source": [
    "datain = torch.randn(size=(1, 50)).to(device)\n",
    "x = vae.encoder(datain)\n",
    "mu = vae.fc_mu(x)\n",
    "log_var = vae.fc_logvar(x)\n",
    "Nsamp=1000"
   ]
  },
  {
   "cell_type": "code",
   "execution_count": 303,
   "id": "e1ee1209-7f4b-40e1-b7b5-a83c3fe8ef75",
   "metadata": {
    "tags": []
   },
   "outputs": [],
   "source": [
    "ppz = np.zeros(shape=(Ntest,Nsamp))\n",
    "for ii in range(Ntest):\n",
    "    for jj in range(Nsamp):\n",
    "        z =vae.sampling(mu,log_var)\n",
    "        ypred = vae.decode(z.to(device),torch.Tensor(f[ii]).unsqueeze(0).to(device))\n",
    "        ppz[ii,jj] = ypred"
   ]
  },
  {
   "cell_type": "code",
   "execution_count": 304,
   "id": "fec26b65-cdc3-4b11-8fd9-cd502cacfc81",
   "metadata": {
    "tags": []
   },
   "outputs": [],
   "source": [
    "m=9"
   ]
  },
  {
   "cell_type": "code",
   "execution_count": 305,
   "id": "a1e92836-3465-44a1-b554-0de380e5ba16",
   "metadata": {
    "tags": []
   },
   "outputs": [
    {
     "data": {
      "text/plain": [
       "(array([ 3.,  2.,  3.,  7.,  4., 12., 12.,  9., 13., 16., 14., 23., 18.,\n",
       "        25., 42., 56., 45., 49., 48., 34., 55., 42., 45., 39., 34., 41.,\n",
       "        25., 33., 37., 26., 24., 21., 22., 27., 18., 19., 12., 12.,  4.,\n",
       "         8.,  6.,  3.,  6.,  2.,  2.,  0.,  1.,  0.,  0.,  1.]),\n",
       " array([0.56738353, 0.57165519, 0.57592686, 0.58019852, 0.58447019,\n",
       "        0.58874185, 0.59301352, 0.59728518, 0.60155684, 0.60582851,\n",
       "        0.61010017, 0.61437184, 0.6186435 , 0.62291517, 0.62718683,\n",
       "        0.6314585 , 0.63573016, 0.64000183, 0.64427349, 0.64854516,\n",
       "        0.65281682, 0.65708848, 0.66136015, 0.66563181, 0.66990348,\n",
       "        0.67417514, 0.67844681, 0.68271847, 0.68699014, 0.6912618 ,\n",
       "        0.69553347, 0.69980513, 0.7040768 , 0.70834846, 0.71262012,\n",
       "        0.71689179, 0.72116345, 0.72543512, 0.72970678, 0.73397845,\n",
       "        0.73825011, 0.74252178, 0.74679344, 0.75106511, 0.75533677,\n",
       "        0.75960844, 0.7638801 , 0.76815176, 0.77242343, 0.77669509,\n",
       "        0.78096676]),\n",
       " <BarContainer object of 50 artists>)"
      ]
     },
     "execution_count": 305,
     "metadata": {},
     "output_type": "execute_result"
    },
    {
     "data": {
      "image/png": "[encoded data removed]",
      "text/plain": [
       "<Figure size 640x480 with 1 Axes>"
      ]
     },
     "metadata": {},
     "output_type": "display_data"
    }
   ],
   "source": [
    "plt.hist(ppz[m], bins =50)"
   ]
  },
  {
   "cell_type": "code",
   "execution_count": 306,
   "id": "a9f7342a-4b24-48bf-b4dc-3b74380fa042",
   "metadata": {
    "tags": []
   },
   "outputs": [
    {
     "data": {
      "text/plain": [
       "0.6869"
      ]
     },
     "execution_count": 306,
     "metadata": {},
     "output_type": "execute_result"
    }
   ],
   "source": [
    "specz[m]"
   ]
  },
  {
   "cell_type": "code",
   "execution_count": 284,
   "id": "b0d9577b-5534-49be-8510-2e2ee65d7dce",
   "metadata": {
    "tags": []
   },
   "outputs": [],
   "source": [
    "OVERFITTING? DIFFERENCE TRAIN TEST? CHECK!"
   ]
  },
  {
   "cell_type": "code",
   "execution_count": 259,
   "id": "21e8e786-5cf9-44f4-b6a7-e8fbb0d36d44",
   "metadata": {
    "tags": []
   },
   "outputs": [],
   "source": []
  },
  {
   "cell_type": "code",
   "execution_count": 266,
   "id": "49174198-d5e3-490d-b448-e509f07ac30f",
   "metadata": {
    "tags": []
   },
   "outputs": [
    {
     "data": {
      "text/plain": [
       "tensor([1.0001, 1.0000, 1.0001, 1.0001, 0.9999, 1.0000, 1.0000, 1.0001, 0.9999,\n",
       "        1.0000], device='cuda:0', grad_fn=<ExpBackward0>)"
      ]
     },
     "execution_count": 266,
     "metadata": {},
     "output_type": "execute_result"
    }
   ],
   "source": [
    "torch.exp(log_var[0])"
   ]
  },
  {
   "cell_type": "code",
   "execution_count": 267,
   "id": "f1248322-b424-4855-bc8b-ce8af1fcb275",
   "metadata": {
    "tags": []
   },
   "outputs": [
    {
     "data": {
      "text/plain": [
       "tensor([-1.7762e-05, -3.3602e-06, -8.1182e-05, -1.8381e-05,  8.2459e-05,\n",
       "         2.9923e-06,  1.5706e-04,  2.2795e-04, -1.3318e-05, -1.1017e-05],\n",
       "       device='cuda:0', grad_fn=<SelectBackward0>)"
      ]
     },
     "execution_count": 267,
     "metadata": {},
     "output_type": "execute_result"
    }
   ],
   "source": [
    "mu[0]"
   ]
  },
  {
   "cell_type": "code",
   "execution_count": null,
   "id": "d14b8ae2-6bf7-47da-9725-57cc3f2b6cca",
   "metadata": {},
   "outputs": [],
   "source": []
  }
 ],
 "metadata": {
  "kernelspec": {
   "display_name": "DLenv2",
   "language": "python",
   "name": "dlenv2"
  },
  "language_info": {
   "codemirror_mode": {
    "name": "ipython",
    "version": 3
   },
   "file_extension": ".py",
   "mimetype": "text/x-python",
   "name": "python",
   "nbconvert_exporter": "python",
   "pygments_lexer": "ipython3",
   "version": "3.9.7"
  }
 },
 "nbformat": 4,
 "nbformat_minor": 5
}
