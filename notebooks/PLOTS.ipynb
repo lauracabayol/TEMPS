{
 "cells": [
  {
   "cell_type": "code",
   "execution_count": 1,
   "id": "873187db-8223-4aa9-88ef-9ee3cc8fbfa4",
   "metadata": {
    "tags": []
   },
   "outputs": [],
   "source": [
    "import numpy as np\n",
    "import pandas as pd\n",
    "from astropy.io import fits\n",
    "import os\n",
    "from astropy.table import Table\n",
    "from scipy.spatial import KDTree\n",
    "\n",
    "import matplotlib.pyplot as plt\n",
    "\n",
    "from IPython.display import Image\n",
    "from IPython.core.display import HTML "
   ]
  },
  {
   "cell_type": "code",
   "execution_count": 2,
   "id": "0cd7baac-bec6-4619-bf86-b03baf28ea8c",
   "metadata": {},
   "outputs": [
    {
     "name": "stderr",
     "output_type": "stream",
     "text": [
      "/data/astro/scratch/lcabayol/anaconda3/envs/DESIenv6/lib/python3.10/site-packages/tqdm/auto.py:21: TqdmWarning: IProgress not found. Please update jupyter and ipywidgets. See https://ipywidgets.readthedocs.io/en/stable/user_install.html\n",
      "  from .autonotebook import tqdm as notebook_tqdm\n"
     ]
    }
   ],
   "source": [
    "import torch\n",
    "from torch.utils.data import DataLoader, dataset, TensorDataset\n",
    "from torch import nn, optim\n",
    "from torch.optim import lr_scheduler"
   ]
  },
  {
   "cell_type": "code",
   "execution_count": 3,
   "id": "8a694b63-85ec-49b9-9836-c5b579d94281",
   "metadata": {},
   "outputs": [],
   "source": [
    "import sys\n",
    "sys.path.append('../insight')\n",
    "from archive import archive \n",
    "from insight_arch import Photoz_network\n",
    "from insight import Insight_module\n",
    "from utils import sigma68, nmad, plot_photoz\n",
    "from scipy import stats"
   ]
  },
  {
   "cell_type": "code",
   "execution_count": 4,
   "id": "6f50d39b-eac8-4f49-a4b7-7579c9984a61",
   "metadata": {},
   "outputs": [],
   "source": [
    "from matplotlib import rcParams\n",
    "rcParams[\"mathtext.fontset\"] = \"stix\"\n",
    "rcParams[\"font.family\"] = \"STIXGeneral\"\n",
    "parent_dir = '/data/astro/scratch/lcabayol/Euclid/NNphotozs/Euclid_EXT_MER_PHZ_DC2_v1.5'"
   ]
  },
  {
   "cell_type": "code",
   "execution_count": 6,
   "id": "661b9a50-684f-4e7d-9293-a73ec5edb98f",
   "metadata": {},
   "outputs": [],
   "source": [
    "photoz_archive = archive(path = parent_dir, Qz_cut=1)\n",
    "f, ferr, specz, specqz = photoz_archive.get_training_data()"
   ]
  },
  {
   "cell_type": "code",
   "execution_count": 100,
   "id": "eff8e565-4e6e-41a0-ad54-4035bea6b14b",
   "metadata": {},
   "outputs": [],
   "source": [
    "f_test, ferr_test, specz_test = photoz_archive.get_testing_data()"
   ]
  },
  {
   "cell_type": "code",
   "execution_count": null,
   "id": "667e4edc-1a58-438d-b1ef-e01ad199e79f",
   "metadata": {},
   "outputs": [],
   "source": []
  },
  {
   "cell_type": "code",
   "execution_count": 74,
   "id": "ace74805-afb6-4d05-826a-901c0e115b8d",
   "metadata": {
    "tags": []
   },
   "outputs": [],
   "source": [
    "df_test = pd.read_csv('/data/astro/scratch/lcabayol/Euclid/NNphotozs/results/df1.csv', sep=',', header = 0, comment='#')"
   ]
  },
  {
   "cell_type": "code",
   "execution_count": 76,
   "id": "854d72a7-e748-4e79-8f18-0c80b2a58ed8",
   "metadata": {
    "tags": []
   },
   "outputs": [
    {
     "data": {
      "text/html": [
       "<div>\n",
       "<style scoped>\n",
       "    .dataframe tbody tr th:only-of-type {\n",
       "        vertical-align: middle;\n",
       "    }\n",
       "\n",
       "    .dataframe tbody tr th {\n",
       "        vertical-align: top;\n",
       "    }\n",
       "\n",
       "    .dataframe thead th {\n",
       "        text-align: right;\n",
       "    }\n",
       "</style>\n",
       "<table border=\"1\" class=\"dataframe\">\n",
       "  <thead>\n",
       "    <tr style=\"text-align: right;\">\n",
       "      <th></th>\n",
       "      <th>VISmag</th>\n",
       "      <th>zs</th>\n",
       "      <th>z</th>\n",
       "      <th>zuncert</th>\n",
       "      <th>zwerr</th>\n",
       "    </tr>\n",
       "  </thead>\n",
       "  <tbody>\n",
       "    <tr>\n",
       "      <th>0</th>\n",
       "      <td>23.103798</td>\n",
       "      <td>1.103000</td>\n",
       "      <td>1.077487</td>\n",
       "      <td>0.147231</td>\n",
       "      <td>-0.012132</td>\n",
       "    </tr>\n",
       "    <tr>\n",
       "      <th>1</th>\n",
       "      <td>22.471019</td>\n",
       "      <td>0.468800</td>\n",
       "      <td>0.416247</td>\n",
       "      <td>0.177303</td>\n",
       "      <td>-0.035780</td>\n",
       "    </tr>\n",
       "    <tr>\n",
       "      <th>2</th>\n",
       "      <td>21.853940</td>\n",
       "      <td>0.694600</td>\n",
       "      <td>0.639316</td>\n",
       "      <td>0.124684</td>\n",
       "      <td>-0.032623</td>\n",
       "    </tr>\n",
       "    <tr>\n",
       "      <th>3</th>\n",
       "      <td>22.005561</td>\n",
       "      <td>0.649200</td>\n",
       "      <td>0.628935</td>\n",
       "      <td>0.128350</td>\n",
       "      <td>-0.012288</td>\n",
       "    </tr>\n",
       "    <tr>\n",
       "      <th>4</th>\n",
       "      <td>22.204387</td>\n",
       "      <td>0.666900</td>\n",
       "      <td>0.611376</td>\n",
       "      <td>0.104980</td>\n",
       "      <td>-0.033309</td>\n",
       "    </tr>\n",
       "    <tr>\n",
       "      <th>...</th>\n",
       "      <td>...</td>\n",
       "      <td>...</td>\n",
       "      <td>...</td>\n",
       "      <td>...</td>\n",
       "      <td>...</td>\n",
       "    </tr>\n",
       "    <tr>\n",
       "      <th>12048</th>\n",
       "      <td>22.449399</td>\n",
       "      <td>0.690462</td>\n",
       "      <td>0.722806</td>\n",
       "      <td>0.123866</td>\n",
       "      <td>0.019133</td>\n",
       "    </tr>\n",
       "    <tr>\n",
       "      <th>12049</th>\n",
       "      <td>22.102501</td>\n",
       "      <td>0.915746</td>\n",
       "      <td>0.956847</td>\n",
       "      <td>0.117305</td>\n",
       "      <td>0.021454</td>\n",
       "    </tr>\n",
       "    <tr>\n",
       "      <th>12050</th>\n",
       "      <td>22.982543</td>\n",
       "      <td>0.721060</td>\n",
       "      <td>0.745688</td>\n",
       "      <td>0.180621</td>\n",
       "      <td>0.014309</td>\n",
       "    </tr>\n",
       "    <tr>\n",
       "      <th>12051</th>\n",
       "      <td>20.037661</td>\n",
       "      <td>0.345100</td>\n",
       "      <td>0.358207</td>\n",
       "      <td>0.070814</td>\n",
       "      <td>0.009744</td>\n",
       "    </tr>\n",
       "    <tr>\n",
       "      <th>12052</th>\n",
       "      <td>22.764413</td>\n",
       "      <td>0.487737</td>\n",
       "      <td>0.363416</td>\n",
       "      <td>0.228689</td>\n",
       "      <td>-0.083564</td>\n",
       "    </tr>\n",
       "  </tbody>\n",
       "</table>\n",
       "<p>12053 rows × 5 columns</p>\n",
       "</div>"
      ],
      "text/plain": [
       "          VISmag        zs         z   zuncert     zwerr\n",
       "0      23.103798  1.103000  1.077487  0.147231 -0.012132\n",
       "1      22.471019  0.468800  0.416247  0.177303 -0.035780\n",
       "2      21.853940  0.694600  0.639316  0.124684 -0.032623\n",
       "3      22.005561  0.649200  0.628935  0.128350 -0.012288\n",
       "4      22.204387  0.666900  0.611376  0.104980 -0.033309\n",
       "...          ...       ...       ...       ...       ...\n",
       "12048  22.449399  0.690462  0.722806  0.123866  0.019133\n",
       "12049  22.102501  0.915746  0.956847  0.117305  0.021454\n",
       "12050  22.982543  0.721060  0.745688  0.180621  0.014309\n",
       "12051  20.037661  0.345100  0.358207  0.070814  0.009744\n",
       "12052  22.764413  0.487737  0.363416  0.228689 -0.083564\n",
       "\n",
       "[12053 rows x 5 columns]"
      ]
     },
     "execution_count": 76,
     "metadata": {},
     "output_type": "execute_result"
    }
   ],
   "source": [
    "df_test"
   ]
  },
  {
   "cell_type": "code",
   "execution_count": null,
   "id": "d72d3057-b2d6-42ee-8729-0ea6f18c0028",
   "metadata": {
    "tags": []
   },
   "outputs": [],
   "source": []
  },
  {
   "cell_type": "code",
   "execution_count": 77,
   "id": "78f955d8-8165-4642-99b2-f8d3d4a0cf1a",
   "metadata": {
    "tags": []
   },
   "outputs": [],
   "source": [
    "def plot_nz(df, bins=np.arange(0,5,0.2)):\n",
    "    kwargs=dict( bins=bins,alpha=0.5)\n",
    "    plt.hist(df.zs.values, color='grey', ls='-' ,**kwargs)\n",
    "    counts, _, =np.histogram(df.z.values, bins=bins)\n",
    "    \n",
    "    plt.plot((bins[:-1]+bins[1:])*0.5,counts, color ='purple')\n",
    "    \n",
    "    #plt.legend(fontsize=14)\n",
    "    plt.xlabel(r'Redshift', fontsize=14)\n",
    "    plt.ylabel(r'Counts', fontsize=14)\n",
    "    plt.yscale('log')\n",
    "    \n",
    "    plt.show()\n",
    "    "
   ]
  },
  {
   "cell_type": "code",
   "execution_count": 58,
   "id": "fa8a38f9-d741-489b-aaaa-997f0671a1cc",
   "metadata": {
    "tags": []
   },
   "outputs": [
    {
     "data": {
      "image/png": "[encoded data removed]",
      "text/plain": [
       "<Figure size 640x480 with 1 Axes>"
      ]
     },
     "metadata": {},
     "output_type": "display_data"
    }
   ],
   "source": [
    "plot_nz(df_test)"
   ]
  },
  {
   "cell_type": "code",
   "execution_count": 68,
   "id": "b8f71544-5a64-4d52-8f50-af5f7fa9929e",
   "metadata": {
    "tags": []
   },
   "outputs": [],
   "source": [
    "def plot_photoz(df, nbins,xvariable,metric, type_bin='bin'):\n",
    "    bin_edges = stats.mstats.mquantiles(df[xvariable].values, np.linspace(0.1,1,nbins))\n",
    "    ydata,xdata = [],[]\n",
    "    \n",
    "    \n",
    "    for k in range(len(bin_edges)-1):\n",
    "        edge_min = bin_edges[k]\n",
    "        edge_max = bin_edges[k+1]\n",
    "\n",
    "        mean_mag =  (edge_max + edge_min) / 2\n",
    "        \n",
    "        if type_bin=='bin':\n",
    "            df_plot = df[(df[xvariable] > edge_min) & (df[xvariable] < edge_max)]\n",
    "        elif type_bin=='cum':\n",
    "            df_plot = df[(df[xvariable] < edge_max)]\n",
    "        else:\n",
    "            raise ValueError(\"Only type_bin=='bin' for binned and 'cum' for cumulative are supported\")\n",
    "\n",
    "\n",
    "        xdata.append(mean_mag)\n",
    "        if metric=='sig68':\n",
    "            ydata.append(sigma68(df_plot.zwerr))\n",
    "            ylab=r'$\\sigma_{\\rm NMAD} [\\Delta z]$'\n",
    "        elif metric=='bias':\n",
    "            ydata.append(np.median(df_plot.zwerr))\n",
    "            ylab=r'Median $[\\Delta z]$'\n",
    "        elif metric=='nmad':\n",
    "            ydata.append(nmad(df_plot.zwerr))\n",
    "            ylab=r'$\\sigma_{\\rm NMAD} [\\Delta z]$'\n",
    "        elif metric=='outliers':\n",
    "            ydata.append(len(df_plot[np.abs(df_plot.zwerr)>0.15])/len(df_plot) *100)\n",
    "            ylab=r'$\\eta$ [%]'\n",
    "            \n",
    "    if xvariable=='VISmag':\n",
    "        xlab='VIS'\n",
    "    elif xvariable=='zs':\n",
    "        xlab=r'$z_{\\rm spec}$'\n",
    "    elif xvariable=='z':\n",
    "        xlab=r'$z$'\n",
    "\n",
    "    plt.plot(xdata,ydata, ls = '-', marker = '.', color = 'navy',lw = 1, label = '')\n",
    "    plt.ylabel(f'{ylab}', fontsize = 18)\n",
    "    plt.xlabel(f'{xlab}', fontsize = 16)\n",
    "\n",
    "    plt.xticks(fontsize = 14)\n",
    "    plt.yticks(fontsize = 14)\n",
    "\n",
    "    plt.grid(False)\n",
    "    \n",
    "    plt.show()\n",
    "   "
   ]
  },
  {
   "cell_type": "code",
   "execution_count": 71,
   "id": "be87adb7-eb06-433a-8b2c-2cb0c1bb3ae3",
   "metadata": {},
   "outputs": [
    {
     "data": {
      "image/png": "[encoded data removed]",
      "text/plain": [
       "<Figure size 640x480 with 1 Axes>"
      ]
     },
     "metadata": {},
     "output_type": "display_data"
    }
   ],
   "source": [
    "plot_photoz(df_test, 8,'z','bias', type_bin='bin')"
   ]
  },
  {
   "cell_type": "code",
   "execution_count": 109,
   "id": "d67d2991-0c55-4ec8-9c5c-8c5cc20364b1",
   "metadata": {},
   "outputs": [
    {
     "data": {
      "text/plain": [
       "0.04460718134171633"
      ]
     },
     "execution_count": 109,
     "metadata": {},
     "output_type": "execute_result"
    }
   ],
   "source": [
    "nmad(df_test[df_test.VISmag<25].zwerr)"
   ]
  },
  {
   "cell_type": "code",
   "execution_count": 110,
   "id": "a7c59672-ff90-473b-8539-e28d9eaec4b7",
   "metadata": {
    "tags": []
   },
   "outputs": [],
   "source": [
    "df_test = df_test[df_test.VISmag<25]"
   ]
  },
  {
   "cell_type": "code",
   "execution_count": 111,
   "id": "81e8b270-0da6-41af-b43d-1912fa98ccaa",
   "metadata": {
    "tags": []
   },
   "outputs": [
    {
     "data": {
      "text/plain": [
       "0.13433240659117107"
      ]
     },
     "execution_count": 111,
     "metadata": {},
     "output_type": "execute_result"
    }
   ],
   "source": [
    "len(df_test[np.abs(df_test.zwerr)>0.15])/len(df_test)"
   ]
  },
  {
   "cell_type": "code",
   "execution_count": 112,
   "id": "5c58a724-ecd8-48ed-89da-0e7eb9a5ca99",
   "metadata": {
    "tags": []
   },
   "outputs": [],
   "source": [
    "torch.save(insight.model.state_dict(),'/data/astro/scratch/lcabayol/Euclid/NNphotozs/models/insight_v0.pt')\n",
    "           \n",
    "                  "
   ]
  },
  {
   "cell_type": "code",
   "execution_count": 113,
   "id": "c966fd40-3d3f-4df5-a988-c55a1ab2e204",
   "metadata": {},
   "outputs": [],
   "source": [
    "df_test.to_csv('/data/astro/scratch/lcabayol/Euclid/NNphotozs/results/df0.csv', sep=',')"
   ]
  },
  {
   "cell_type": "code",
   "execution_count": 114,
   "id": "f8487c14-3b26-4742-a5c0-e6a820400cc9",
   "metadata": {},
   "outputs": [
    {
     "name": "stderr",
     "output_type": "stream",
     "text": [
      "/tmp/ipykernel_678/2146862925.py:13: FutureWarning: the 'line_terminator'' keyword is deprecated, use 'lineterminator' instead.\n",
      "  df_test.to_csv(f, header=True, index=False, line_terminator='\\n')\n"
     ]
    }
   ],
   "source": [
    "# Create a list of additional header lines\n",
    "header_lines = [\n",
    "    \"# Training spect-zs with a strict quality cut\",\n",
    "    \"#10 MDN components\",\n",
    "    \"# For 300 epochs with lr0=1e-3 + 100 epochs with lr=1e-4\",\n",
    "    \"# Date: 2023-07-26\",\n",
    "]\n",
    "\n",
    "# Write DataFrame to a CSV file with custom header lines\n",
    "with open('/data/astro/scratch/lcabayol/Euclid/NNphotozs/results/df0.csv', 'w') as f:\n",
    "    for line in header_lines:\n",
    "        f.write(line + '\\n')\n",
    "    df_test.to_csv(f, header=True, index=False, line_terminator='\\n')\n"
   ]
  },
  {
   "cell_type": "code",
   "execution_count": null,
   "id": "e20b30c3-00a8-4dd0-969d-0426121b99f5",
   "metadata": {},
   "outputs": [],
   "source": []
  },
  {
   "cell_type": "code",
   "execution_count": null,
   "id": "f9c0ad7d-7796-41b5-8b91-7c8dec41f17b",
   "metadata": {},
   "outputs": [],
   "source": []
  },
  {
   "cell_type": "code",
   "execution_count": null,
   "id": "60b50881-860c-48c1-80c3-f8a9ab51226f",
   "metadata": {},
   "outputs": [],
   "source": []
  },
  {
   "cell_type": "code",
   "execution_count": null,
   "id": "c174cd6f-340e-4986-a04d-6318ce11e067",
   "metadata": {},
   "outputs": [],
   "source": []
  }
 ],
 "metadata": {
  "kernelspec": {
   "display_name": "DESIenv6",
   "language": "python",
   "name": "desienv6"
  },
  "language_info": {
   "codemirror_mode": {
    "name": "ipython",
    "version": 3
   },
   "file_extension": ".py",
   "mimetype": "text/x-python",
   "name": "python",
   "nbconvert_exporter": "python",
   "pygments_lexer": "ipython3",
   "version": "3.10.9"
  }
 },
 "nbformat": 4,
 "nbformat_minor": 5
}
