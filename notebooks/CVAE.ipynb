{
 "cells": [
  {
   "cell_type": "code",
   "execution_count": 175,
   "id": "10a00e46-827a-4278-a715-99526591a0a7",
   "metadata": {
    "tags": []
   },
   "outputs": [],
   "source": [
    "import torch.nn as nn\n",
    "import torch\n",
    "class CondVAE(nn.Module):\n",
    "    def __init__(self,latent_dim=10, context_vector_size=6):\n",
    "        super(CondVAE, self).__init__()\n",
    "        \n",
    "        self.latent_dim = latent_dim\n",
    "\n",
    "\n",
    "        # Decoder\n",
    "        self.decoder = nn.Sequential(\n",
    "            nn.Linear(in_features=latent_dim + 6, out_features=50),\n",
    "            nn.ReLU(),\n",
    "            nn.BatchNorm1d(50),  # Add BatchNorm1d layer\n",
    "            nn.Linear(in_features=50, out_features=100),\n",
    "            nn.ReLU(),\n",
    "            nn.BatchNorm1d(100),  # Add BatchNorm1d layer\n",
    "            nn.Linear(in_features=100, out_features=150),\n",
    "            nn.ReLU(),\n",
    "            nn.BatchNorm1d(150),  # Add BatchNorm1d layer\n",
    "            nn.Linear(in_features=150, out_features=100),\n",
    "            nn.ReLU(),\n",
    "            nn.BatchNorm1d(100),  # Add BatchNorm1d layer\n",
    "            nn.Linear(in_features=100, out_features=50),\n",
    "            nn.ReLU(),\n",
    "            nn.BatchNorm1d(50),  # Add BatchNorm1d layer\n",
    "            nn.Linear(in_features=50, out_features=1),\n",
    "        )\n",
    "\n",
    "    \n",
    "    def decode(self, z, context_vector):\n",
    "        # Concatenate the sampling (latent distribution) + embedding -> samples conditioned on both the input data and the specified label\n",
    "        zcomb = torch.concat((z, context_vector), 1)\n",
    "        #print(zcomb.shape)\n",
    "        \n",
    "        return self.decoder(zcomb)     \n",
    "    \n",
    "    def sampling(self, mu, std):\n",
    "        \n",
    "        # create noise tensor of same size as std to add to the latent vector\n",
    "        eps = torch.cuda.FloatTensor(std.size()).normal_()\n",
    "        \n",
    "        # multiply eps with std to scale the random noise according to the learned distribution + add combined\n",
    "        return eps.mul(std).add_(mu) # return z sample \n",
    "\n",
    "    def forward(self, context_vector):\n",
    "        z = self.sampling(torch.zeros(size=(len(context_vector),latent_dim)).to(device), torch.ones(size=(len(context_vector),latent_dim)).to(device))\n",
    "        #print(z.shape)\n",
    "\n",
    "        return self.decode(z, context_vector)\n"
   ]
  },
  {
   "cell_type": "code",
   "execution_count": 176,
   "id": "8bbbe719-f9a3-4ace-ac4c-ed29ec4f9486",
   "metadata": {
    "tags": []
   },
   "outputs": [],
   "source": [
    "import tqdm\n",
    "import torch\n",
    "import torch.nn as nn\n",
    "\n",
    "def condvae_loss(pred, label):\n",
    "    \"\"\"\n",
    "    Calculate the conditional Variational Autoencoder (cVAE) loss.\n",
    "\n",
    "    This function computes the cVAE loss, which consists of two components:\n",
    "    - Reconstruction loss: Measures the discrepancy between the reconstructed\n",
    "      data and the original input.\n",
    "    - KL divergence loss: Quantifies the difference between the learned latent\n",
    "      distribution and the desired prior distribution (Gaussian).\n",
    "\n",
    "    Args:\n",
    "        recon_x (torch.Tensor): Reconstructed data from the VAE.\n",
    "        x (torch.Tensor): Original input data.\n",
    "        mu (torch.Tensor): Latent variable mean.\n",
    "        logvar (torch.Tensor): Logarithm of latent variable variance.\n",
    "\n",
    "    Returns:\n",
    "        torch.Tensor: Computed cVAE loss.\n",
    "    \"\"\"\n",
    "    \n",
    "    # MSE loss element-wise and sums up the individual losses\n",
    "    cde_loss = nn.MSELoss(reduction='mean')(pred, label)\n",
    "    \n",
    "    \n",
    "    return cde_loss \n",
    "\n",
    "def VAE_trainEpoch(model, optimizer, train_loader, val_loader, dim_in=100):\n",
    "    \"\"\"\n",
    "    Train a Variational Autoencoder (VAE) for one epoch.\n",
    "\n",
    "    This function trains a VAE for one epoch using the provided data loader.\n",
    "    It calculates the cVAE loss, performs backpropagation, and updates the model's parameters.\n",
    "\n",
    "    Args:\n",
    "        model (nn.Module): VAE model to be trained.\n",
    "        optimizer (torch.optim.Optimizer): Optimizer for updating model parameters.\n",
    "        train_loader (DataLoader): DataLoader containing training data.\n",
    "        dim_in (int): Dimensionality of the input noise.\n",
    "\n",
    "    Returns:\n",
    "        float: Average loss for the epoch.\n",
    "    \"\"\"\n",
    "    model = model.train()\n",
    "    device = torch.device(\"cuda\" if torch.cuda.is_available() else \"cpu\")\n",
    "    total_loss = 0\n",
    "    total_loss_val = 0\n",
    "\n",
    "    progress_bar = tqdm.tqdm(train_loader, desc=\"Train epoch Progress\", leave=True)\n",
    "\n",
    "    for context_vector, label in progress_bar:\n",
    "        context_vector = context_vector.to(device)\n",
    "        label = label.unsqueeze(1).cuda()\n",
    "        optimizer.zero_grad()\n",
    "\n",
    "        recon_batch = model(context_vector)\n",
    "        loss = condvae_loss(recon_batch, label)\n",
    "\n",
    "        loss.backward()\n",
    "        optimizer.step()\n",
    "\n",
    "        total_loss += loss.item()\n",
    "        progress_bar.set_postfix({\"Training Loss\": total_loss / (progress_bar.n + 1)})\n",
    "        \n",
    "    for context_vector_validation, label_validation in loader_val:\n",
    "        optimizer.zero_grad()\n",
    "        context_vector_validation = context_vector_validation.to(device)\n",
    "        label_validation = label_validation.unsqueeze(1).cuda()\n",
    "\n",
    "        recon_batch_val = model(context_vector_validation)\n",
    "        loss_val = condvae_loss(recon_batch_val, label_validation)\n",
    "        \n",
    "        total_loss_val+= loss_val.item()\n",
    "\n",
    "    return total_loss / len(train_loader), total_loss_val / len(val_loader)\n",
    "\n",
    "def VAE_train(model, optimizer, train_loader, val_loader,epochs, save_path=None):\n",
    "    \"\"\"\n",
    "    Train a Variational Autoencoder (VAE) for multiple epochs.\n",
    "\n",
    "    This function trains a VAE for the specified number of epochs using the provided data loader.\n",
    "    It prints the epoch progress and the computed loss for each epoch.\n",
    "\n",
    "    Args:\n",
    "        model (nn.Module): VAE model to be trained.\n",
    "        optimizer (torch.optim.Optimizer): Optimizer for updating model parameters.\n",
    "        train_loader (DataLoader): DataLoader containing training data.\n",
    "        epochs (int): Number of epochs for training.\n",
    "\n",
    "    Returns:\n",
    "        None\n",
    "    \"\"\"\n",
    "    for epoch in range(epochs):\n",
    "        print(f\"Epoch {epoch + 1}/{epochs}\")\n",
    "        epoch_loss, epoch_valloss = VAE_trainEpoch(model, optimizer, train_loader, val_loader)\n",
    "        print(f\"Epoch {epoch + 1}/{epochs}, Loss Train: {epoch_loss:.4f}\")\n",
    "        print(f\"Epoch {epoch + 1}/{epochs}, Loss Val: {epoch_valloss:.4f}\")\n",
    "\n",
    "        \n",
    "    if save_path!=None:\n",
    "        torch.save(model, save_path)\n",
    "\n"
   ]
  },
  {
   "cell_type": "code",
   "execution_count": 177,
   "id": "11aaa0e9-e745-483a-887d-d851e791f8e4",
   "metadata": {
    "tags": []
   },
   "outputs": [],
   "source": [
    "import numpy as np\n",
    "import pandas as pd\n",
    "from astropy.io import fits\n",
    "import os\n",
    "from astropy.table import Table\n",
    "from scipy.spatial import KDTree\n",
    "\n",
    "import matplotlib.pyplot as plt\n",
    "\n",
    "from IPython.display import Image\n",
    "from IPython.core.display import HTML "
   ]
  },
  {
   "cell_type": "code",
   "execution_count": 178,
   "id": "0814440a-e341-4540-bfba-466b74b9873d",
   "metadata": {
    "tags": []
   },
   "outputs": [],
   "source": [
    "import torch\n",
    "from torch.utils.data import DataLoader, dataset, TensorDataset\n",
    "from torch import nn, optim\n",
    "from torch.optim import lr_scheduler"
   ]
  },
  {
   "cell_type": "code",
   "execution_count": 179,
   "id": "8ecf9b60-bd03-4fa6-9516-c767d04b2071",
   "metadata": {
    "tags": []
   },
   "outputs": [],
   "source": [
    "import sys\n",
    "sys.path.append('../insight')\n",
    "from archive import archive \n",
    "from insight_arch import Photoz_network\n",
    "from insight import Insight_module\n",
    "from utils import sigma68, nmad, plot_photoz_estimates\n",
    "from scipy import stats"
   ]
  },
  {
   "cell_type": "code",
   "execution_count": 180,
   "id": "1277097d-e4bb-4bdd-b1f4-bccc88be0169",
   "metadata": {
    "tags": []
   },
   "outputs": [],
   "source": [
    "from matplotlib import rcParams\n",
    "rcParams[\"mathtext.fontset\"] = \"stix\"\n",
    "rcParams[\"font.family\"] = \"STIXGeneral\"\n",
    "parent_dir = '/data/astro/scratch/lcabayol/Euclid/NNphotozs/Euclid_EXT_MER_PHZ_DC2_v1.5'"
   ]
  },
  {
   "cell_type": "code",
   "execution_count": 181,
   "id": "5d2d3713-ff7f-4f16-860f-cf5ff42801b1",
   "metadata": {
    "tags": []
   },
   "outputs": [],
   "source": [
    "photoz_archive = archive(path = parent_dir, Qz_cut=1)\n",
    "f, ferr, specz, specqz = photoz_archive.get_training_data()"
   ]
  },
  {
   "cell_type": "code",
   "execution_count": 182,
   "id": "a5248335-41b5-4607-bfb0-e16bfe08e952",
   "metadata": {
    "tags": []
   },
   "outputs": [],
   "source": [
    "dset = TensorDataset(torch.Tensor(f),torch.Tensor(specz))\n"
   ]
  },
  {
   "cell_type": "code",
   "execution_count": 183,
   "id": "13104580-8733-445f-90fc-ad444b1c0194",
   "metadata": {
    "tags": []
   },
   "outputs": [],
   "source": [
    "from torch.utils.data import random_split\n",
    "dset_train, dset_val = random_split(dset, [int(0.9*len(dset)+1), int(0.1*len(dset))])"
   ]
  },
  {
   "cell_type": "code",
   "execution_count": 184,
   "id": "45af2d9e-1160-4859-9888-f5daf62df84a",
   "metadata": {
    "tags": []
   },
   "outputs": [],
   "source": [
    "loader = DataLoader(dset_train, batch_size=100, shuffle=True)\n",
    "loader_val = DataLoader(dset_val, batch_size=100, shuffle=False)"
   ]
  },
  {
   "cell_type": "code",
   "execution_count": 185,
   "id": "dad8733c-c36a-4e86-b32d-41c244ba6259",
   "metadata": {
    "tags": []
   },
   "outputs": [],
   "source": [
    "latent_dim=1\n",
    "context_vector_dim=6\n",
    "epochs=100\n",
    "device = torch.device(\"cuda\" if torch.cuda.is_available() else \"cpu\")\n"
   ]
  },
  {
   "cell_type": "code",
   "execution_count": 186,
   "id": "ef0b6560-dd3d-4b9d-a14c-43bf9338f7a4",
   "metadata": {
    "tags": []
   },
   "outputs": [],
   "source": [
    "vae = CondVAE(latent_dim=latent_dim, context_vector_size=6).to(device)\n",
    "optimizer = optim.Adam(vae.parameters(), lr=1e-3, weight_decay=1e-4)\n"
   ]
  },
  {
   "cell_type": "code",
   "execution_count": 187,
   "id": "dd04d484-d14d-488d-a640-180fb6ab1001",
   "metadata": {
    "collapsed": true,
    "jupyter": {
     "outputs_hidden": true
    },
    "tags": []
   },
   "outputs": [
    {
     "name": "stdout",
     "output_type": "stream",
     "text": [
      "Epoch 1/100\n"
     ]
    },
    {
     "name": "stderr",
     "output_type": "stream",
     "text": [
      "Train epoch Progress: 100%|██████████| 108/108 [00:00<00:00, 108.29it/s, Training Loss=0.398]\n"
     ]
    },
    {
     "name": "stdout",
     "output_type": "stream",
     "text": [
      "Epoch 1/100, Loss Train: 0.3795\n",
      "Epoch 1/100, Loss Val: 0.3233\n",
      "Epoch 2/100\n"
     ]
    },
    {
     "name": "stderr",
     "output_type": "stream",
     "text": [
      "Train epoch Progress: 100%|██████████| 108/108 [00:00<00:00, 110.67it/s, Training Loss=0.288]\n"
     ]
    },
    {
     "name": "stdout",
     "output_type": "stream",
     "text": [
      "Epoch 2/100, Loss Train: 0.2611\n",
      "Epoch 2/100, Loss Val: 0.3001\n",
      "Epoch 3/100\n"
     ]
    },
    {
     "name": "stderr",
     "output_type": "stream",
     "text": [
      "Train epoch Progress: 100%|██████████| 108/108 [00:00<00:00, 110.80it/s, Training Loss=0.265]\n"
     ]
    },
    {
     "name": "stdout",
     "output_type": "stream",
     "text": [
      "Epoch 3/100, Loss Train: 0.2452\n",
      "Epoch 3/100, Loss Val: 0.2695\n",
      "Epoch 4/100\n"
     ]
    },
    {
     "name": "stderr",
     "output_type": "stream",
     "text": [
      "Train epoch Progress: 100%|██████████| 108/108 [00:00<00:00, 109.80it/s, Training Loss=0.256]\n"
     ]
    },
    {
     "name": "stdout",
     "output_type": "stream",
     "text": [
      "Epoch 4/100, Loss Train: 0.2303\n",
      "Epoch 4/100, Loss Val: 0.2764\n",
      "Epoch 5/100\n"
     ]
    },
    {
     "name": "stderr",
     "output_type": "stream",
     "text": [
      "Train epoch Progress: 100%|██████████| 108/108 [00:00<00:00, 111.45it/s, Training Loss=0.244]\n"
     ]
    },
    {
     "name": "stdout",
     "output_type": "stream",
     "text": [
      "Epoch 5/100, Loss Train: 0.2234\n",
      "Epoch 5/100, Loss Val: 0.2551\n",
      "Epoch 6/100\n"
     ]
    },
    {
     "name": "stderr",
     "output_type": "stream",
     "text": [
      "Train epoch Progress: 100%|██████████| 108/108 [00:00<00:00, 110.87it/s, Training Loss=0.231]\n"
     ]
    },
    {
     "name": "stdout",
     "output_type": "stream",
     "text": [
      "Epoch 6/100, Loss Train: 0.2100\n",
      "Epoch 6/100, Loss Val: 0.2387\n",
      "Epoch 7/100\n"
     ]
    },
    {
     "name": "stderr",
     "output_type": "stream",
     "text": [
      "Train epoch Progress: 100%|██████████| 108/108 [00:01<00:00, 107.72it/s, Training Loss=0.212]\n"
     ]
    },
    {
     "name": "stdout",
     "output_type": "stream",
     "text": [
      "Epoch 7/100, Loss Train: 0.2117\n",
      "Epoch 7/100, Loss Val: 0.2331\n",
      "Epoch 8/100\n"
     ]
    },
    {
     "name": "stderr",
     "output_type": "stream",
     "text": [
      "Train epoch Progress: 100%|██████████| 108/108 [00:00<00:00, 108.85it/s, Training Loss=0.209]\n"
     ]
    },
    {
     "name": "stdout",
     "output_type": "stream",
     "text": [
      "Epoch 8/100, Loss Train: 0.2051\n",
      "Epoch 8/100, Loss Val: 0.2296\n",
      "Epoch 9/100\n"
     ]
    },
    {
     "name": "stderr",
     "output_type": "stream",
     "text": [
      "Train epoch Progress: 100%|██████████| 108/108 [00:00<00:00, 109.82it/s, Training Loss=0.217]\n"
     ]
    },
    {
     "name": "stdout",
     "output_type": "stream",
     "text": [
      "Epoch 9/100, Loss Train: 0.1970\n",
      "Epoch 9/100, Loss Val: 0.2230\n",
      "Epoch 10/100\n"
     ]
    },
    {
     "name": "stderr",
     "output_type": "stream",
     "text": [
      "Train epoch Progress: 100%|██████████| 108/108 [00:00<00:00, 109.36it/s, Training Loss=0.195]\n"
     ]
    },
    {
     "name": "stdout",
     "output_type": "stream",
     "text": [
      "Epoch 10/100, Loss Train: 0.1936\n",
      "Epoch 10/100, Loss Val: 0.2394\n",
      "Epoch 11/100\n"
     ]
    },
    {
     "name": "stderr",
     "output_type": "stream",
     "text": [
      "Train epoch Progress: 100%|██████████| 108/108 [00:00<00:00, 109.43it/s, Training Loss=0.194]\n"
     ]
    },
    {
     "name": "stdout",
     "output_type": "stream",
     "text": [
      "Epoch 11/100, Loss Train: 0.1903\n",
      "Epoch 11/100, Loss Val: 0.2240\n",
      "Epoch 12/100\n"
     ]
    },
    {
     "name": "stderr",
     "output_type": "stream",
     "text": [
      "Train epoch Progress: 100%|██████████| 108/108 [00:00<00:00, 109.83it/s, Training Loss=0.191]\n"
     ]
    },
    {
     "name": "stdout",
     "output_type": "stream",
     "text": [
      "Epoch 12/100, Loss Train: 0.1889\n",
      "Epoch 12/100, Loss Val: 0.2232\n",
      "Epoch 13/100\n"
     ]
    },
    {
     "name": "stderr",
     "output_type": "stream",
     "text": [
      "Train epoch Progress: 100%|██████████| 108/108 [00:00<00:00, 112.16it/s, Training Loss=0.204]\n"
     ]
    },
    {
     "name": "stdout",
     "output_type": "stream",
     "text": [
      "Epoch 13/100, Loss Train: 0.1874\n",
      "Epoch 13/100, Loss Val: 0.2163\n",
      "Epoch 14/100\n"
     ]
    },
    {
     "name": "stderr",
     "output_type": "stream",
     "text": [
      "Train epoch Progress: 100%|██████████| 108/108 [00:00<00:00, 110.30it/s, Training Loss=0.2] \n"
     ]
    },
    {
     "name": "stdout",
     "output_type": "stream",
     "text": [
      "Epoch 14/100, Loss Train: 0.1831\n",
      "Epoch 14/100, Loss Val: 0.2149\n",
      "Epoch 15/100\n"
     ]
    },
    {
     "name": "stderr",
     "output_type": "stream",
     "text": [
      "Train epoch Progress: 100%|██████████| 108/108 [00:00<00:00, 110.58it/s, Training Loss=0.201]\n"
     ]
    },
    {
     "name": "stdout",
     "output_type": "stream",
     "text": [
      "Epoch 15/100, Loss Train: 0.1861\n",
      "Epoch 15/100, Loss Val: 0.2523\n",
      "Epoch 16/100\n"
     ]
    },
    {
     "name": "stderr",
     "output_type": "stream",
     "text": [
      "Train epoch Progress: 100%|██████████| 108/108 [00:00<00:00, 109.23it/s, Training Loss=0.185]\n"
     ]
    },
    {
     "name": "stdout",
     "output_type": "stream",
     "text": [
      "Epoch 16/100, Loss Train: 0.1816\n",
      "Epoch 16/100, Loss Val: 0.2232\n",
      "Epoch 17/100\n"
     ]
    },
    {
     "name": "stderr",
     "output_type": "stream",
     "text": [
      "Train epoch Progress: 100%|██████████| 108/108 [00:00<00:00, 109.59it/s, Training Loss=0.195]\n"
     ]
    },
    {
     "name": "stdout",
     "output_type": "stream",
     "text": [
      "Epoch 17/100, Loss Train: 0.1784\n",
      "Epoch 17/100, Loss Val: 0.2079\n",
      "Epoch 18/100\n"
     ]
    },
    {
     "name": "stderr",
     "output_type": "stream",
     "text": [
      "Train epoch Progress: 100%|██████████| 108/108 [00:00<00:00, 110.85it/s, Training Loss=0.198]\n"
     ]
    },
    {
     "name": "stdout",
     "output_type": "stream",
     "text": [
      "Epoch 18/100, Loss Train: 0.1831\n",
      "Epoch 18/100, Loss Val: 0.2148\n",
      "Epoch 19/100\n"
     ]
    },
    {
     "name": "stderr",
     "output_type": "stream",
     "text": [
      "Train epoch Progress: 100%|██████████| 108/108 [00:00<00:00, 111.15it/s, Training Loss=0.192]\n"
     ]
    },
    {
     "name": "stdout",
     "output_type": "stream",
     "text": [
      "Epoch 19/100, Loss Train: 0.1738\n",
      "Epoch 19/100, Loss Val: 0.2112\n",
      "Epoch 20/100\n"
     ]
    },
    {
     "name": "stderr",
     "output_type": "stream",
     "text": [
      "Train epoch Progress: 100%|██████████| 108/108 [00:00<00:00, 109.93it/s, Training Loss=0.193]\n"
     ]
    },
    {
     "name": "stdout",
     "output_type": "stream",
     "text": [
      "Epoch 20/100, Loss Train: 0.1749\n",
      "Epoch 20/100, Loss Val: 0.2141\n",
      "Epoch 21/100\n"
     ]
    },
    {
     "name": "stderr",
     "output_type": "stream",
     "text": [
      "Train epoch Progress: 100%|██████████| 108/108 [00:00<00:00, 108.67it/s, Training Loss=0.171]\n"
     ]
    },
    {
     "name": "stdout",
     "output_type": "stream",
     "text": [
      "Epoch 21/100, Loss Train: 0.1714\n",
      "Epoch 21/100, Loss Val: 0.2108\n",
      "Epoch 22/100\n"
     ]
    },
    {
     "name": "stderr",
     "output_type": "stream",
     "text": [
      "Train epoch Progress: 100%|██████████| 108/108 [00:00<00:00, 109.55it/s, Training Loss=0.189]\n"
     ]
    },
    {
     "name": "stdout",
     "output_type": "stream",
     "text": [
      "Epoch 22/100, Loss Train: 0.1718\n",
      "Epoch 22/100, Loss Val: 0.2076\n",
      "Epoch 23/100\n"
     ]
    },
    {
     "name": "stderr",
     "output_type": "stream",
     "text": [
      "Train epoch Progress: 100%|██████████| 108/108 [00:00<00:00, 111.42it/s, Training Loss=0.182]\n"
     ]
    },
    {
     "name": "stdout",
     "output_type": "stream",
     "text": [
      "Epoch 23/100, Loss Train: 0.1698\n",
      "Epoch 23/100, Loss Val: 0.2030\n",
      "Epoch 24/100\n"
     ]
    },
    {
     "name": "stderr",
     "output_type": "stream",
     "text": [
      "Train epoch Progress: 100%|██████████| 108/108 [00:00<00:00, 110.38it/s, Training Loss=0.182]\n"
     ]
    },
    {
     "name": "stdout",
     "output_type": "stream",
     "text": [
      "Epoch 24/100, Loss Train: 0.1651\n",
      "Epoch 24/100, Loss Val: 0.2000\n",
      "Epoch 25/100\n"
     ]
    },
    {
     "name": "stderr",
     "output_type": "stream",
     "text": [
      "Train epoch Progress: 100%|██████████| 108/108 [00:00<00:00, 109.63it/s, Training Loss=0.166]\n"
     ]
    },
    {
     "name": "stdout",
     "output_type": "stream",
     "text": [
      "Epoch 25/100, Loss Train: 0.1660\n",
      "Epoch 25/100, Loss Val: 0.1994\n",
      "Epoch 26/100\n"
     ]
    },
    {
     "name": "stderr",
     "output_type": "stream",
     "text": [
      "Train epoch Progress: 100%|██████████| 108/108 [00:00<00:00, 109.36it/s, Training Loss=0.164]\n"
     ]
    },
    {
     "name": "stdout",
     "output_type": "stream",
     "text": [
      "Epoch 26/100, Loss Train: 0.1624\n",
      "Epoch 26/100, Loss Val: 0.1912\n",
      "Epoch 27/100\n"
     ]
    },
    {
     "name": "stderr",
     "output_type": "stream",
     "text": [
      "Train epoch Progress: 100%|██████████| 108/108 [00:00<00:00, 111.92it/s, Training Loss=0.172]\n"
     ]
    },
    {
     "name": "stdout",
     "output_type": "stream",
     "text": [
      "Epoch 27/100, Loss Train: 0.1580\n",
      "Epoch 27/100, Loss Val: 0.1975\n",
      "Epoch 28/100\n"
     ]
    },
    {
     "name": "stderr",
     "output_type": "stream",
     "text": [
      "Train epoch Progress: 100%|██████████| 108/108 [00:00<00:00, 110.56it/s, Training Loss=0.171]\n"
     ]
    },
    {
     "name": "stdout",
     "output_type": "stream",
     "text": [
      "Epoch 28/100, Loss Train: 0.1586\n",
      "Epoch 28/100, Loss Val: 0.2098\n",
      "Epoch 29/100\n"
     ]
    },
    {
     "name": "stderr",
     "output_type": "stream",
     "text": [
      "Train epoch Progress: 100%|██████████| 108/108 [00:00<00:00, 111.95it/s, Training Loss=0.181]\n"
     ]
    },
    {
     "name": "stdout",
     "output_type": "stream",
     "text": [
      "Epoch 29/100, Loss Train: 0.1656\n",
      "Epoch 29/100, Loss Val: 0.1941\n",
      "Epoch 30/100\n"
     ]
    },
    {
     "name": "stderr",
     "output_type": "stream",
     "text": [
      "Train epoch Progress: 100%|██████████| 108/108 [00:00<00:00, 110.61it/s, Training Loss=0.153]\n"
     ]
    },
    {
     "name": "stdout",
     "output_type": "stream",
     "text": [
      "Epoch 30/100, Loss Train: 0.1529\n",
      "Epoch 30/100, Loss Val: 0.1856\n",
      "Epoch 31/100\n"
     ]
    },
    {
     "name": "stderr",
     "output_type": "stream",
     "text": [
      "Train epoch Progress: 100%|██████████| 108/108 [00:00<00:00, 110.90it/s, Training Loss=0.167]\n"
     ]
    },
    {
     "name": "stdout",
     "output_type": "stream",
     "text": [
      "Epoch 31/100, Loss Train: 0.1513\n",
      "Epoch 31/100, Loss Val: 0.1861\n",
      "Epoch 32/100\n"
     ]
    },
    {
     "name": "stderr",
     "output_type": "stream",
     "text": [
      "Train epoch Progress: 100%|██████████| 108/108 [00:00<00:00, 109.44it/s, Training Loss=0.156]\n"
     ]
    },
    {
     "name": "stdout",
     "output_type": "stream",
     "text": [
      "Epoch 32/100, Loss Train: 0.1562\n",
      "Epoch 32/100, Loss Val: 0.1877\n",
      "Epoch 33/100\n"
     ]
    },
    {
     "name": "stderr",
     "output_type": "stream",
     "text": [
      "Train epoch Progress: 100%|██████████| 108/108 [00:00<00:00, 110.27it/s, Training Loss=0.153]\n"
     ]
    },
    {
     "name": "stdout",
     "output_type": "stream",
     "text": [
      "Epoch 33/100, Loss Train: 0.1526\n",
      "Epoch 33/100, Loss Val: 0.1884\n",
      "Epoch 34/100\n"
     ]
    },
    {
     "name": "stderr",
     "output_type": "stream",
     "text": [
      "Train epoch Progress: 100%|██████████| 108/108 [00:00<00:00, 109.51it/s, Training Loss=0.153]\n"
     ]
    },
    {
     "name": "stdout",
     "output_type": "stream",
     "text": [
      "Epoch 34/100, Loss Train: 0.1530\n",
      "Epoch 34/100, Loss Val: 0.1977\n",
      "Epoch 35/100\n"
     ]
    },
    {
     "name": "stderr",
     "output_type": "stream",
     "text": [
      "Train epoch Progress: 100%|██████████| 108/108 [00:00<00:00, 108.86it/s, Training Loss=0.156]\n"
     ]
    },
    {
     "name": "stdout",
     "output_type": "stream",
     "text": [
      "Epoch 35/100, Loss Train: 0.1560\n",
      "Epoch 35/100, Loss Val: 0.1867\n",
      "Epoch 36/100\n"
     ]
    },
    {
     "name": "stderr",
     "output_type": "stream",
     "text": [
      "Train epoch Progress: 100%|██████████| 108/108 [00:00<00:00, 108.75it/s, Training Loss=0.152]\n"
     ]
    },
    {
     "name": "stdout",
     "output_type": "stream",
     "text": [
      "Epoch 36/100, Loss Train: 0.1451\n",
      "Epoch 36/100, Loss Val: 0.1865\n",
      "Epoch 37/100\n"
     ]
    },
    {
     "name": "stderr",
     "output_type": "stream",
     "text": [
      "Train epoch Progress: 100%|██████████| 108/108 [00:00<00:00, 110.47it/s, Training Loss=0.16]\n"
     ]
    },
    {
     "name": "stdout",
     "output_type": "stream",
     "text": [
      "Epoch 37/100, Loss Train: 0.1471\n",
      "Epoch 37/100, Loss Val: 0.1956\n",
      "Epoch 38/100\n"
     ]
    },
    {
     "name": "stderr",
     "output_type": "stream",
     "text": [
      "Train epoch Progress: 100%|██████████| 108/108 [00:00<00:00, 110.78it/s, Training Loss=0.16]\n"
     ]
    },
    {
     "name": "stdout",
     "output_type": "stream",
     "text": [
      "Epoch 38/100, Loss Train: 0.1469\n",
      "Epoch 38/100, Loss Val: 0.2036\n",
      "Epoch 39/100\n"
     ]
    },
    {
     "name": "stderr",
     "output_type": "stream",
     "text": [
      "Train epoch Progress: 100%|██████████| 108/108 [00:00<00:00, 111.59it/s, Training Loss=0.167]\n"
     ]
    },
    {
     "name": "stdout",
     "output_type": "stream",
     "text": [
      "Epoch 39/100, Loss Train: 0.1551\n",
      "Epoch 39/100, Loss Val: 0.1791\n",
      "Epoch 40/100\n"
     ]
    },
    {
     "name": "stderr",
     "output_type": "stream",
     "text": [
      "Train epoch Progress: 100%|██████████| 108/108 [00:00<00:00, 109.67it/s, Training Loss=0.165]\n"
     ]
    },
    {
     "name": "stdout",
     "output_type": "stream",
     "text": [
      "Epoch 40/100, Loss Train: 0.1496\n",
      "Epoch 40/100, Loss Val: 0.2094\n",
      "Epoch 41/100\n"
     ]
    },
    {
     "name": "stderr",
     "output_type": "stream",
     "text": [
      "Train epoch Progress: 100%|██████████| 108/108 [00:00<00:00, 109.87it/s, Training Loss=0.143]\n"
     ]
    },
    {
     "name": "stdout",
     "output_type": "stream",
     "text": [
      "Epoch 41/100, Loss Train: 0.1432\n",
      "Epoch 41/100, Loss Val: 0.2049\n",
      "Epoch 42/100\n"
     ]
    },
    {
     "name": "stderr",
     "output_type": "stream",
     "text": [
      "Train epoch Progress: 100%|██████████| 108/108 [00:00<00:00, 109.74it/s, Training Loss=0.15] \n"
     ]
    },
    {
     "name": "stdout",
     "output_type": "stream",
     "text": [
      "Epoch 42/100, Loss Train: 0.1503\n",
      "Epoch 42/100, Loss Val: 0.1915\n",
      "Epoch 43/100\n"
     ]
    },
    {
     "name": "stderr",
     "output_type": "stream",
     "text": [
      "Train epoch Progress: 100%|██████████| 108/108 [00:00<00:00, 109.44it/s, Training Loss=0.148]\n"
     ]
    },
    {
     "name": "stdout",
     "output_type": "stream",
     "text": [
      "Epoch 43/100, Loss Train: 0.1468\n",
      "Epoch 43/100, Loss Val: 0.2011\n",
      "Epoch 44/100\n"
     ]
    },
    {
     "name": "stderr",
     "output_type": "stream",
     "text": [
      "Train epoch Progress: 100%|██████████| 108/108 [00:00<00:00, 108.92it/s, Training Loss=0.143]\n"
     ]
    },
    {
     "name": "stdout",
     "output_type": "stream",
     "text": [
      "Epoch 44/100, Loss Train: 0.1430\n",
      "Epoch 44/100, Loss Val: 0.1923\n",
      "Epoch 45/100\n"
     ]
    },
    {
     "name": "stderr",
     "output_type": "stream",
     "text": [
      "Train epoch Progress: 100%|██████████| 108/108 [00:00<00:00, 110.69it/s, Training Loss=0.164]\n"
     ]
    },
    {
     "name": "stdout",
     "output_type": "stream",
     "text": [
      "Epoch 45/100, Loss Train: 0.1489\n",
      "Epoch 45/100, Loss Val: 0.1806\n",
      "Epoch 46/100\n"
     ]
    },
    {
     "name": "stderr",
     "output_type": "stream",
     "text": [
      "Train epoch Progress: 100%|██████████| 108/108 [00:00<00:00, 109.35it/s, Training Loss=0.151]\n"
     ]
    },
    {
     "name": "stdout",
     "output_type": "stream",
     "text": [
      "Epoch 46/100, Loss Train: 0.1493\n",
      "Epoch 46/100, Loss Val: 0.1975\n",
      "Epoch 47/100\n"
     ]
    },
    {
     "name": "stderr",
     "output_type": "stream",
     "text": [
      "Train epoch Progress: 100%|██████████| 108/108 [00:00<00:00, 109.05it/s, Training Loss=0.141]\n"
     ]
    },
    {
     "name": "stdout",
     "output_type": "stream",
     "text": [
      "Epoch 47/100, Loss Train: 0.1408\n",
      "Epoch 47/100, Loss Val: 0.1966\n",
      "Epoch 48/100\n"
     ]
    },
    {
     "name": "stderr",
     "output_type": "stream",
     "text": [
      "Train epoch Progress: 100%|██████████| 108/108 [00:00<00:00, 109.30it/s, Training Loss=0.14] \n"
     ]
    },
    {
     "name": "stdout",
     "output_type": "stream",
     "text": [
      "Epoch 48/100, Loss Train: 0.1385\n",
      "Epoch 48/100, Loss Val: 0.2006\n",
      "Epoch 49/100\n"
     ]
    },
    {
     "name": "stderr",
     "output_type": "stream",
     "text": [
      "Train epoch Progress: 100%|██████████| 108/108 [00:00<00:00, 109.61it/s, Training Loss=0.156]\n"
     ]
    },
    {
     "name": "stdout",
     "output_type": "stream",
     "text": [
      "Epoch 49/100, Loss Train: 0.1417\n",
      "Epoch 49/100, Loss Val: 0.1841\n",
      "Epoch 50/100\n"
     ]
    },
    {
     "name": "stderr",
     "output_type": "stream",
     "text": [
      "Train epoch Progress: 100%|██████████| 108/108 [00:00<00:00, 110.82it/s, Training Loss=0.154]\n"
     ]
    },
    {
     "name": "stdout",
     "output_type": "stream",
     "text": [
      "Epoch 50/100, Loss Train: 0.1393\n",
      "Epoch 50/100, Loss Val: 0.1758\n",
      "Epoch 51/100\n"
     ]
    },
    {
     "name": "stderr",
     "output_type": "stream",
     "text": [
      "Train epoch Progress: 100%|██████████| 108/108 [00:00<00:00, 111.40it/s, Training Loss=0.152]\n"
     ]
    },
    {
     "name": "stdout",
     "output_type": "stream",
     "text": [
      "Epoch 51/100, Loss Train: 0.1406\n",
      "Epoch 51/100, Loss Val: 0.2048\n",
      "Epoch 52/100\n"
     ]
    },
    {
     "name": "stderr",
     "output_type": "stream",
     "text": [
      "Train epoch Progress: 100%|██████████| 108/108 [00:00<00:00, 111.47it/s, Training Loss=0.149]\n"
     ]
    },
    {
     "name": "stdout",
     "output_type": "stream",
     "text": [
      "Epoch 52/100, Loss Train: 0.1348\n",
      "Epoch 52/100, Loss Val: 0.1996\n",
      "Epoch 53/100\n"
     ]
    },
    {
     "name": "stderr",
     "output_type": "stream",
     "text": [
      "Train epoch Progress: 100%|██████████| 108/108 [00:00<00:00, 109.85it/s, Training Loss=0.145]\n"
     ]
    },
    {
     "name": "stdout",
     "output_type": "stream",
     "text": [
      "Epoch 53/100, Loss Train: 0.1440\n",
      "Epoch 53/100, Loss Val: 0.1875\n",
      "Epoch 54/100\n"
     ]
    },
    {
     "name": "stderr",
     "output_type": "stream",
     "text": [
      "Train epoch Progress: 100%|██████████| 108/108 [00:00<00:00, 109.56it/s, Training Loss=0.142]\n"
     ]
    },
    {
     "name": "stdout",
     "output_type": "stream",
     "text": [
      "Epoch 54/100, Loss Train: 0.1412\n",
      "Epoch 54/100, Loss Val: 0.1831\n",
      "Epoch 55/100\n"
     ]
    },
    {
     "name": "stderr",
     "output_type": "stream",
     "text": [
      "Train epoch Progress: 100%|██████████| 108/108 [00:00<00:00, 114.75it/s, Training Loss=0.143]\n"
     ]
    },
    {
     "name": "stdout",
     "output_type": "stream",
     "text": [
      "Epoch 55/100, Loss Train: 0.1354\n",
      "Epoch 55/100, Loss Val: 0.1808\n",
      "Epoch 56/100\n"
     ]
    },
    {
     "name": "stderr",
     "output_type": "stream",
     "text": [
      "Train epoch Progress: 100%|██████████| 108/108 [00:01<00:00, 107.49it/s, Training Loss=0.149]\n"
     ]
    },
    {
     "name": "stdout",
     "output_type": "stream",
     "text": [
      "Epoch 56/100, Loss Train: 0.1382\n",
      "Epoch 56/100, Loss Val: 0.1871\n",
      "Epoch 57/100\n"
     ]
    },
    {
     "name": "stderr",
     "output_type": "stream",
     "text": [
      "Train epoch Progress: 100%|██████████| 108/108 [00:00<00:00, 110.51it/s, Training Loss=0.147]\n"
     ]
    },
    {
     "name": "stdout",
     "output_type": "stream",
     "text": [
      "Epoch 57/100, Loss Train: 0.1345\n",
      "Epoch 57/100, Loss Val: 0.1875\n",
      "Epoch 58/100\n"
     ]
    },
    {
     "name": "stderr",
     "output_type": "stream",
     "text": [
      "Train epoch Progress: 100%|██████████| 108/108 [00:00<00:00, 111.09it/s, Training Loss=0.142]\n"
     ]
    },
    {
     "name": "stdout",
     "output_type": "stream",
     "text": [
      "Epoch 58/100, Loss Train: 0.1311\n",
      "Epoch 58/100, Loss Val: 0.1846\n",
      "Epoch 59/100\n"
     ]
    },
    {
     "name": "stderr",
     "output_type": "stream",
     "text": [
      "Train epoch Progress: 100%|██████████| 108/108 [00:00<00:00, 110.32it/s, Training Loss=0.139]\n"
     ]
    },
    {
     "name": "stdout",
     "output_type": "stream",
     "text": [
      "Epoch 59/100, Loss Train: 0.1389\n",
      "Epoch 59/100, Loss Val: 0.1799\n",
      "Epoch 60/100\n"
     ]
    },
    {
     "name": "stderr",
     "output_type": "stream",
     "text": [
      "Train epoch Progress: 100%|██████████| 108/108 [00:00<00:00, 109.61it/s, Training Loss=0.128]\n"
     ]
    },
    {
     "name": "stdout",
     "output_type": "stream",
     "text": [
      "Epoch 60/100, Loss Train: 0.1284\n",
      "Epoch 60/100, Loss Val: 0.1775\n",
      "Epoch 61/100\n"
     ]
    },
    {
     "name": "stderr",
     "output_type": "stream",
     "text": [
      "Train epoch Progress: 100%|██████████| 108/108 [00:00<00:00, 110.67it/s, Training Loss=0.143]\n"
     ]
    },
    {
     "name": "stdout",
     "output_type": "stream",
     "text": [
      "Epoch 61/100, Loss Train: 0.1300\n",
      "Epoch 61/100, Loss Val: 0.1720\n",
      "Epoch 62/100\n"
     ]
    },
    {
     "name": "stderr",
     "output_type": "stream",
     "text": [
      "Train epoch Progress: 100%|██████████| 108/108 [00:00<00:00, 110.09it/s, Training Loss=0.153]\n"
     ]
    },
    {
     "name": "stdout",
     "output_type": "stream",
     "text": [
      "Epoch 62/100, Loss Train: 0.1370\n",
      "Epoch 62/100, Loss Val: 0.1770\n",
      "Epoch 63/100\n"
     ]
    },
    {
     "name": "stderr",
     "output_type": "stream",
     "text": [
      "Train epoch Progress: 100%|██████████| 108/108 [00:00<00:00, 111.03it/s, Training Loss=0.142]\n"
     ]
    },
    {
     "name": "stdout",
     "output_type": "stream",
     "text": [
      "Epoch 63/100, Loss Train: 0.1298\n",
      "Epoch 63/100, Loss Val: 0.1834\n",
      "Epoch 64/100\n"
     ]
    },
    {
     "name": "stderr",
     "output_type": "stream",
     "text": [
      "Train epoch Progress: 100%|██████████| 108/108 [00:00<00:00, 109.27it/s, Training Loss=0.13] \n"
     ]
    },
    {
     "name": "stdout",
     "output_type": "stream",
     "text": [
      "Epoch 64/100, Loss Train: 0.1285\n",
      "Epoch 64/100, Loss Val: 0.1854\n",
      "Epoch 65/100\n"
     ]
    },
    {
     "name": "stderr",
     "output_type": "stream",
     "text": [
      "Train epoch Progress: 100%|██████████| 108/108 [00:00<00:00, 110.63it/s, Training Loss=0.144]\n"
     ]
    },
    {
     "name": "stdout",
     "output_type": "stream",
     "text": [
      "Epoch 65/100, Loss Train: 0.1304\n",
      "Epoch 65/100, Loss Val: 0.1884\n",
      "Epoch 66/100\n"
     ]
    },
    {
     "name": "stderr",
     "output_type": "stream",
     "text": [
      "Train epoch Progress: 100%|██████████| 108/108 [00:00<00:00, 110.47it/s, Training Loss=0.142]\n"
     ]
    },
    {
     "name": "stdout",
     "output_type": "stream",
     "text": [
      "Epoch 66/100, Loss Train: 0.1311\n",
      "Epoch 66/100, Loss Val: 0.1799\n",
      "Epoch 67/100\n"
     ]
    },
    {
     "name": "stderr",
     "output_type": "stream",
     "text": [
      "Train epoch Progress: 100%|██████████| 108/108 [00:00<00:00, 109.58it/s, Training Loss=0.129]\n"
     ]
    },
    {
     "name": "stdout",
     "output_type": "stream",
     "text": [
      "Epoch 67/100, Loss Train: 0.1268\n",
      "Epoch 67/100, Loss Val: 0.1878\n",
      "Epoch 68/100\n"
     ]
    },
    {
     "name": "stderr",
     "output_type": "stream",
     "text": [
      "Train epoch Progress: 100%|██████████| 108/108 [00:00<00:00, 109.29it/s, Training Loss=0.144]\n"
     ]
    },
    {
     "name": "stdout",
     "output_type": "stream",
     "text": [
      "Epoch 68/100, Loss Train: 0.1307\n",
      "Epoch 68/100, Loss Val: 0.1912\n",
      "Epoch 69/100\n"
     ]
    },
    {
     "name": "stderr",
     "output_type": "stream",
     "text": [
      "Train epoch Progress: 100%|██████████| 108/108 [00:00<00:00, 109.00it/s, Training Loss=0.135]\n"
     ]
    },
    {
     "name": "stdout",
     "output_type": "stream",
     "text": [
      "Epoch 69/100, Loss Train: 0.1320\n",
      "Epoch 69/100, Loss Val: 0.1881\n",
      "Epoch 70/100\n"
     ]
    },
    {
     "name": "stderr",
     "output_type": "stream",
     "text": [
      "Train epoch Progress: 100%|██████████| 108/108 [00:00<00:00, 110.43it/s, Training Loss=0.129]\n"
     ]
    },
    {
     "name": "stdout",
     "output_type": "stream",
     "text": [
      "Epoch 70/100, Loss Train: 0.1290\n",
      "Epoch 70/100, Loss Val: 0.1734\n",
      "Epoch 71/100\n"
     ]
    },
    {
     "name": "stderr",
     "output_type": "stream",
     "text": [
      "Train epoch Progress: 100%|██████████| 108/108 [00:00<00:00, 109.95it/s, Training Loss=0.129]\n"
     ]
    },
    {
     "name": "stdout",
     "output_type": "stream",
     "text": [
      "Epoch 71/100, Loss Train: 0.1292\n",
      "Epoch 71/100, Loss Val: 0.1997\n",
      "Epoch 72/100\n"
     ]
    },
    {
     "name": "stderr",
     "output_type": "stream",
     "text": [
      "Train epoch Progress: 100%|██████████| 108/108 [00:00<00:00, 112.36it/s, Training Loss=0.131]\n"
     ]
    },
    {
     "name": "stdout",
     "output_type": "stream",
     "text": [
      "Epoch 72/100, Loss Train: 0.1239\n",
      "Epoch 72/100, Loss Val: 0.1901\n",
      "Epoch 73/100\n"
     ]
    },
    {
     "name": "stderr",
     "output_type": "stream",
     "text": [
      "Train epoch Progress: 100%|██████████| 108/108 [00:00<00:00, 110.86it/s, Training Loss=0.146]\n"
     ]
    },
    {
     "name": "stdout",
     "output_type": "stream",
     "text": [
      "Epoch 73/100, Loss Train: 0.1325\n",
      "Epoch 73/100, Loss Val: 0.1945\n",
      "Epoch 74/100\n"
     ]
    },
    {
     "name": "stderr",
     "output_type": "stream",
     "text": [
      "Train epoch Progress: 100%|██████████| 108/108 [00:00<00:00, 111.15it/s, Training Loss=0.143]\n"
     ]
    },
    {
     "name": "stdout",
     "output_type": "stream",
     "text": [
      "Epoch 74/100, Loss Train: 0.1313\n",
      "Epoch 74/100, Loss Val: 0.1839\n",
      "Epoch 75/100\n"
     ]
    },
    {
     "name": "stderr",
     "output_type": "stream",
     "text": [
      "Train epoch Progress: 100%|██████████| 108/108 [00:00<00:00, 110.50it/s, Training Loss=0.131]\n"
     ]
    },
    {
     "name": "stdout",
     "output_type": "stream",
     "text": [
      "Epoch 75/100, Loss Train: 0.1204\n",
      "Epoch 75/100, Loss Val: 0.1881\n",
      "Epoch 76/100\n"
     ]
    },
    {
     "name": "stderr",
     "output_type": "stream",
     "text": [
      "Train epoch Progress: 100%|██████████| 108/108 [00:00<00:00, 110.22it/s, Training Loss=0.14]\n"
     ]
    },
    {
     "name": "stdout",
     "output_type": "stream",
     "text": [
      "Epoch 76/100, Loss Train: 0.1280\n",
      "Epoch 76/100, Loss Val: 0.1766\n",
      "Epoch 77/100\n"
     ]
    },
    {
     "name": "stderr",
     "output_type": "stream",
     "text": [
      "Train epoch Progress: 100%|██████████| 108/108 [00:00<00:00, 109.70it/s, Training Loss=0.123]\n"
     ]
    },
    {
     "name": "stdout",
     "output_type": "stream",
     "text": [
      "Epoch 77/100, Loss Train: 0.1225\n",
      "Epoch 77/100, Loss Val: 0.1800\n",
      "Epoch 78/100\n"
     ]
    },
    {
     "name": "stderr",
     "output_type": "stream",
     "text": [
      "Train epoch Progress: 100%|██████████| 108/108 [00:01<00:00, 107.92it/s, Training Loss=0.126]\n"
     ]
    },
    {
     "name": "stdout",
     "output_type": "stream",
     "text": [
      "Epoch 78/100, Loss Train: 0.1224\n",
      "Epoch 78/100, Loss Val: 0.1783\n",
      "Epoch 79/100\n"
     ]
    },
    {
     "name": "stderr",
     "output_type": "stream",
     "text": [
      "Train epoch Progress: 100%|██████████| 108/108 [00:00<00:00, 110.75it/s, Training Loss=0.14]\n"
     ]
    },
    {
     "name": "stdout",
     "output_type": "stream",
     "text": [
      "Epoch 79/100, Loss Train: 0.1269\n",
      "Epoch 79/100, Loss Val: 0.1827\n",
      "Epoch 80/100\n"
     ]
    },
    {
     "name": "stderr",
     "output_type": "stream",
     "text": [
      "Train epoch Progress: 100%|██████████| 108/108 [00:00<00:00, 109.85it/s, Training Loss=0.128]\n"
     ]
    },
    {
     "name": "stdout",
     "output_type": "stream",
     "text": [
      "Epoch 80/100, Loss Train: 0.1271\n",
      "Epoch 80/100, Loss Val: 0.1747\n",
      "Epoch 81/100\n"
     ]
    },
    {
     "name": "stderr",
     "output_type": "stream",
     "text": [
      "Train epoch Progress: 100%|██████████| 108/108 [00:00<00:00, 108.30it/s, Training Loss=0.124]\n"
     ]
    },
    {
     "name": "stdout",
     "output_type": "stream",
     "text": [
      "Epoch 81/100, Loss Train: 0.1236\n",
      "Epoch 81/100, Loss Val: 0.1961\n",
      "Epoch 82/100\n"
     ]
    },
    {
     "name": "stderr",
     "output_type": "stream",
     "text": [
      "Train epoch Progress: 100%|██████████| 108/108 [00:00<00:00, 109.94it/s, Training Loss=0.133]\n"
     ]
    },
    {
     "name": "stdout",
     "output_type": "stream",
     "text": [
      "Epoch 82/100, Loss Train: 0.1220\n",
      "Epoch 82/100, Loss Val: 0.1829\n",
      "Epoch 83/100\n"
     ]
    },
    {
     "name": "stderr",
     "output_type": "stream",
     "text": [
      "Train epoch Progress: 100%|██████████| 108/108 [00:00<00:00, 109.31it/s, Training Loss=0.128]\n"
     ]
    },
    {
     "name": "stdout",
     "output_type": "stream",
     "text": [
      "Epoch 83/100, Loss Train: 0.1252\n",
      "Epoch 83/100, Loss Val: 0.1801\n",
      "Epoch 84/100\n"
     ]
    },
    {
     "name": "stderr",
     "output_type": "stream",
     "text": [
      "Train epoch Progress: 100%|██████████| 108/108 [00:00<00:00, 109.85it/s, Training Loss=0.123]\n"
     ]
    },
    {
     "name": "stdout",
     "output_type": "stream",
     "text": [
      "Epoch 84/100, Loss Train: 0.1226\n",
      "Epoch 84/100, Loss Val: 0.1784\n",
      "Epoch 85/100\n"
     ]
    },
    {
     "name": "stderr",
     "output_type": "stream",
     "text": [
      "Train epoch Progress: 100%|██████████| 108/108 [00:00<00:00, 109.45it/s, Training Loss=0.121]\n"
     ]
    },
    {
     "name": "stdout",
     "output_type": "stream",
     "text": [
      "Epoch 85/100, Loss Train: 0.1195\n",
      "Epoch 85/100, Loss Val: 0.1822\n",
      "Epoch 86/100\n"
     ]
    },
    {
     "name": "stderr",
     "output_type": "stream",
     "text": [
      "Train epoch Progress: 100%|██████████| 108/108 [00:00<00:00, 110.70it/s, Training Loss=0.134]\n"
     ]
    },
    {
     "name": "stdout",
     "output_type": "stream",
     "text": [
      "Epoch 86/100, Loss Train: 0.1229\n",
      "Epoch 86/100, Loss Val: 0.1825\n",
      "Epoch 87/100\n"
     ]
    },
    {
     "name": "stderr",
     "output_type": "stream",
     "text": [
      "Train epoch Progress: 100%|██████████| 108/108 [00:00<00:00, 115.77it/s, Training Loss=0.127]\n"
     ]
    },
    {
     "name": "stdout",
     "output_type": "stream",
     "text": [
      "Epoch 87/100, Loss Train: 0.1172\n",
      "Epoch 87/100, Loss Val: 0.1881\n",
      "Epoch 88/100\n"
     ]
    },
    {
     "name": "stderr",
     "output_type": "stream",
     "text": [
      "Train epoch Progress: 100%|██████████| 108/108 [00:00<00:00, 114.24it/s, Training Loss=0.122]\n"
     ]
    },
    {
     "name": "stdout",
     "output_type": "stream",
     "text": [
      "Epoch 88/100, Loss Train: 0.1179\n",
      "Epoch 88/100, Loss Val: 0.1860\n",
      "Epoch 89/100\n"
     ]
    },
    {
     "name": "stderr",
     "output_type": "stream",
     "text": [
      "Train epoch Progress: 100%|██████████| 108/108 [00:00<00:00, 109.22it/s, Training Loss=0.119]\n"
     ]
    },
    {
     "name": "stdout",
     "output_type": "stream",
     "text": [
      "Epoch 89/100, Loss Train: 0.1170\n",
      "Epoch 89/100, Loss Val: 0.1829\n",
      "Epoch 90/100\n"
     ]
    },
    {
     "name": "stderr",
     "output_type": "stream",
     "text": [
      "Train epoch Progress: 100%|██████████| 108/108 [00:00<00:00, 108.72it/s, Training Loss=0.12] \n"
     ]
    },
    {
     "name": "stdout",
     "output_type": "stream",
     "text": [
      "Epoch 90/100, Loss Train: 0.1193\n",
      "Epoch 90/100, Loss Val: 0.1891\n",
      "Epoch 91/100\n"
     ]
    },
    {
     "name": "stderr",
     "output_type": "stream",
     "text": [
      "Train epoch Progress: 100%|██████████| 108/108 [00:00<00:00, 110.20it/s, Training Loss=0.124]\n"
     ]
    },
    {
     "name": "stdout",
     "output_type": "stream",
     "text": [
      "Epoch 91/100, Loss Train: 0.1127\n",
      "Epoch 91/100, Loss Val: 0.1931\n",
      "Epoch 92/100\n"
     ]
    },
    {
     "name": "stderr",
     "output_type": "stream",
     "text": [
      "Train epoch Progress: 100%|██████████| 108/108 [00:00<00:00, 110.06it/s, Training Loss=0.116]\n"
     ]
    },
    {
     "name": "stdout",
     "output_type": "stream",
     "text": [
      "Epoch 92/100, Loss Train: 0.1164\n",
      "Epoch 92/100, Loss Val: 0.2019\n",
      "Epoch 93/100\n"
     ]
    },
    {
     "name": "stderr",
     "output_type": "stream",
     "text": [
      "Train epoch Progress: 100%|██████████| 108/108 [00:00<00:00, 109.03it/s, Training Loss=0.121]\n"
     ]
    },
    {
     "name": "stdout",
     "output_type": "stream",
     "text": [
      "Epoch 93/100, Loss Train: 0.1183\n",
      "Epoch 93/100, Loss Val: 0.1899\n",
      "Epoch 94/100\n"
     ]
    },
    {
     "name": "stderr",
     "output_type": "stream",
     "text": [
      "Train epoch Progress: 100%|██████████| 108/108 [00:00<00:00, 108.92it/s, Training Loss=0.122]\n"
     ]
    },
    {
     "name": "stdout",
     "output_type": "stream",
     "text": [
      "Epoch 94/100, Loss Train: 0.1224\n",
      "Epoch 94/100, Loss Val: 0.1807\n",
      "Epoch 95/100\n"
     ]
    },
    {
     "name": "stderr",
     "output_type": "stream",
     "text": [
      "Train epoch Progress: 100%|██████████| 108/108 [00:00<00:00, 109.17it/s, Training Loss=0.115]\n"
     ]
    },
    {
     "name": "stdout",
     "output_type": "stream",
     "text": [
      "Epoch 95/100, Loss Train: 0.1131\n",
      "Epoch 95/100, Loss Val: 0.1818\n",
      "Epoch 96/100\n"
     ]
    },
    {
     "name": "stderr",
     "output_type": "stream",
     "text": [
      "Train epoch Progress: 100%|██████████| 108/108 [00:00<00:00, 110.09it/s, Training Loss=0.126]\n"
     ]
    },
    {
     "name": "stdout",
     "output_type": "stream",
     "text": [
      "Epoch 96/100, Loss Train: 0.1141\n",
      "Epoch 96/100, Loss Val: 0.1824\n",
      "Epoch 97/100\n"
     ]
    },
    {
     "name": "stderr",
     "output_type": "stream",
     "text": [
      "Train epoch Progress: 100%|██████████| 108/108 [00:00<00:00, 110.62it/s, Training Loss=0.127]\n"
     ]
    },
    {
     "name": "stdout",
     "output_type": "stream",
     "text": [
      "Epoch 97/100, Loss Train: 0.1149\n",
      "Epoch 97/100, Loss Val: 0.1822\n",
      "Epoch 98/100\n"
     ]
    },
    {
     "name": "stderr",
     "output_type": "stream",
     "text": [
      "Train epoch Progress: 100%|██████████| 108/108 [00:00<00:00, 111.70it/s, Training Loss=0.124]\n"
     ]
    },
    {
     "name": "stdout",
     "output_type": "stream",
     "text": [
      "Epoch 98/100, Loss Train: 0.1149\n",
      "Epoch 98/100, Loss Val: 0.1686\n",
      "Epoch 99/100\n"
     ]
    },
    {
     "name": "stderr",
     "output_type": "stream",
     "text": [
      "Train epoch Progress: 100%|██████████| 108/108 [00:00<00:00, 111.09it/s, Training Loss=0.126]\n"
     ]
    },
    {
     "name": "stdout",
     "output_type": "stream",
     "text": [
      "Epoch 99/100, Loss Train: 0.1169\n",
      "Epoch 99/100, Loss Val: 0.1820\n",
      "Epoch 100/100\n"
     ]
    },
    {
     "name": "stderr",
     "output_type": "stream",
     "text": [
      "Train epoch Progress: 100%|██████████| 108/108 [00:00<00:00, 109.30it/s, Training Loss=0.116]\n"
     ]
    },
    {
     "name": "stdout",
     "output_type": "stream",
     "text": [
      "Epoch 100/100, Loss Train: 0.1163\n",
      "Epoch 100/100, Loss Val: 0.1814\n"
     ]
    }
   ],
   "source": [
    "VAE_train(vae, optimizer, loader, loader_val, epochs, save_path=None)"
   ]
  },
  {
   "cell_type": "code",
   "execution_count": 197,
   "id": "be7812f7-a91d-4cea-93a4-55aa3221c018",
   "metadata": {
    "tags": []
   },
   "outputs": [],
   "source": [
    "f_test, ferr_test, specz_test = photoz_archive.get_testing_data()\n",
    "dset_test = TensorDataset(torch.Tensor(f_test),torch.Tensor(specz_test))\n",
    "loader_test = DataLoader(dset_test, batch_size=100, shuffle=False)"
   ]
  },
  {
   "cell_type": "code",
   "execution_count": 212,
   "id": "0e37084e-b208-4b2e-a085-bf15a5cc64b5",
   "metadata": {
    "tags": []
   },
   "outputs": [
    {
     "data": {
      "text/plain": [
       "(100, 100, 1)"
      ]
     },
     "execution_count": 212,
     "metadata": {},
     "output_type": "execute_result"
    }
   ],
   "source": [
    "py_z_list.shape"
   ]
  },
  {
   "cell_type": "code",
   "execution_count": 211,
   "id": "0ea2e51f-1879-485e-a0c5-36b564ce5bc2",
   "metadata": {
    "tags": []
   },
   "outputs": [
    {
     "ename": "ValueError",
     "evalue": "could not broadcast input array from shape (100,100,1) into shape (1000,)",
     "output_type": "error",
     "traceback": [
      "\u001b[0;31m---------------------------------------------------------------------------\u001b[0m",
      "\u001b[0;31mValueError\u001b[0m                                Traceback (most recent call last)",
      "Cell \u001b[0;32mIn[211], line 21\u001b[0m\n\u001b[1;32m     17\u001b[0m     py_z_list\u001b[38;5;241m.\u001b[39mappend(vae\u001b[38;5;241m.\u001b[39mdecode(z\u001b[38;5;241m.\u001b[39mto(device),context_vector_validation)\u001b[38;5;241m.\u001b[39mdetach()\u001b[38;5;241m.\u001b[39mcpu()\u001b[38;5;241m.\u001b[39mnumpy())\n\u001b[1;32m     19\u001b[0m py_z_list \u001b[38;5;241m=\u001b[39m np\u001b[38;5;241m.\u001b[39marray(py_z_list)\n\u001b[0;32m---> 21\u001b[0m \u001b[43mpz_y\u001b[49m\u001b[43m[\u001b[49m\u001b[43mii\u001b[49m\u001b[43m]\u001b[49m \u001b[38;5;241m=\u001b[39m py_z_list\n",
      "\u001b[0;31mValueError\u001b[0m: could not broadcast input array from shape (100,100,1) into shape (1000,)"
     ]
    }
   ],
   "source": [
    "Nsamp=100\n",
    "samp_lim=1000\n",
    "vae = vae.eval()\n",
    "py_z_list = []\n",
    "pz_y = np.zeros(shape=(samp_lim,samp_lim))\n",
    "ztrue = []\n",
    "for ii, (context_vector_validation, label_validation) in enumerate(loader_test):\n",
    "            \n",
    "    if ii>(samp_lim-1): \n",
    "        break\n",
    "        \n",
    "    context_vector_validation = context_vector_validation.to(device)\n",
    "        \n",
    "    for jj in range(Nsamp):\n",
    "        z = vae.sampling(torch.zeros(size=(len(context_vector_validation),latent_dim)).to(device), torch.ones(size=(len(context_vector_validation),latent_dim)).to(device))\n",
    "        py_z_list.append(vae.decode(z.to(device),context_vector_validation).detach().cpu().numpy())\n",
    "        "
   ]
  },
  {
   "cell_type": "code",
   "execution_count": 208,
   "id": "f9fce044-01c0-4b92-b278-be54fb543e5d",
   "metadata": {
    "tags": []
   },
   "outputs": [
    {
     "name": "stderr",
     "output_type": "stream",
     "text": [
      "/tmp/ipykernel_65/4229676729.py:1: VisibleDeprecationWarning: Creating an ndarray from ragged nested sequences (which is a list-or-tuple of lists-or-tuples-or ndarrays with different lengths or shapes) is deprecated. If you meant to do this, you must specify 'dtype=object' when creating the ndarray.\n",
      "  py_z = np.array(py_z)\n"
     ]
    }
   ],
   "source": [
    "py_z = np.array(py_z)"
   ]
  },
  {
   "cell_type": "code",
   "execution_count": 210,
   "id": "3c39d843-9133-4fbc-be85-8df035978486",
   "metadata": {
    "tags": []
   },
   "outputs": [
    {
     "ename": "ValueError",
     "evalue": "cannot reshape array of size 11600 into shape (1000,100)",
     "output_type": "error",
     "traceback": [
      "\u001b[0;31m---------------------------------------------------------------------------\u001b[0m",
      "\u001b[0;31mValueError\u001b[0m                                Traceback (most recent call last)",
      "Cell \u001b[0;32mIn[210], line 1\u001b[0m\n\u001b[0;32m----> 1\u001b[0m \u001b[43mpy_z\u001b[49m\u001b[38;5;241;43m.\u001b[39;49m\u001b[43mreshape\u001b[49m\u001b[43m(\u001b[49m\u001b[43msamp_lim\u001b[49m\u001b[43m,\u001b[49m\u001b[43mNsamp\u001b[49m\u001b[43m)\u001b[49m\n",
      "\u001b[0;31mValueError\u001b[0m: cannot reshape array of size 11600 into shape (1000,100)"
     ]
    }
   ],
   "source": [
    "py_z.reshape(samp_lim,Nsamp)"
   ]
  },
  {
   "cell_type": "code",
   "execution_count": 207,
   "id": "76515bff-f1ff-451c-a459-8341fba20c70",
   "metadata": {
    "tags": []
   },
   "outputs": [
    {
     "data": {
      "text/plain": [
       "100"
      ]
     },
     "execution_count": 207,
     "metadata": {},
     "output_type": "execute_result"
    }
   ],
   "source": [
    "len(py_z[0])"
   ]
  },
  {
   "cell_type": "code",
   "execution_count": 205,
   "id": "0fc45dc6-3053-4078-adf7-917fecb5738c",
   "metadata": {
    "tags": []
   },
   "outputs": [
    {
     "data": {
      "text/plain": [
       "(1151400, 1)"
      ]
     },
     "execution_count": 205,
     "metadata": {},
     "output_type": "execute_result"
    }
   ],
   "source": [
    "np.vstack(py_z).shape"
   ]
  },
  {
   "cell_type": "code",
   "execution_count": 201,
   "id": "c521b833-bbd4-4e84-b266-00227a89229f",
   "metadata": {
    "tags": []
   },
   "outputs": [],
   "source": [
    "m=305"
   ]
  },
  {
   "cell_type": "code",
   "execution_count": 202,
   "id": "a1e92836-3465-44a1-b554-0de380e5ba16",
   "metadata": {
    "tags": []
   },
   "outputs": [
    {
     "data": {
      "image/png": "[encoded data removed]",
      "text/plain": [
       "<Figure size 640x480 with 1 Axes>"
      ]
     },
     "metadata": {},
     "output_type": "display_data"
    }
   ],
   "source": [
    "plt.hist(py_z[m], bins =50)\n",
    "plt.show()"
   ]
  },
  {
   "cell_type": "code",
   "execution_count": 192,
   "id": "a9f7342a-4b24-48bf-b4dc-3b74380fa042",
   "metadata": {
    "tags": []
   },
   "outputs": [
    {
     "data": {
      "text/plain": [
       "array([0.22139999])"
      ]
     },
     "execution_count": 192,
     "metadata": {},
     "output_type": "execute_result"
    }
   ],
   "source": [
    "ztrue[m]"
   ]
  },
  {
   "cell_type": "code",
   "execution_count": 193,
   "id": "b0d9577b-5534-49be-8510-2e2ee65d7dce",
   "metadata": {
    "tags": []
   },
   "outputs": [],
   "source": [
    "zmean = py_z.mean(1)"
   ]
  },
  {
   "cell_type": "code",
   "execution_count": 194,
   "id": "21e8e786-5cf9-44f4-b6a7-e8fbb0d36d44",
   "metadata": {
    "tags": []
   },
   "outputs": [],
   "source": [
    "rerrz = (zmean-ztrue[:,0])/(1+ztrue[:,0])"
   ]
  },
  {
   "cell_type": "code",
   "execution_count": 195,
   "id": "f1248322-b424-4855-bc8b-ce8af1fcb275",
   "metadata": {
    "tags": []
   },
   "outputs": [
    {
     "data": {
      "text/plain": [
       "0.04469466897810881"
      ]
     },
     "execution_count": 195,
     "metadata": {},
     "output_type": "execute_result"
    }
   ],
   "source": [
    "rerrz.mean()"
   ]
  },
  {
   "cell_type": "code",
   "execution_count": 173,
   "id": "d14b8ae2-6bf7-47da-9725-57cc3f2b6cca",
   "metadata": {},
   "outputs": [],
   "source": [
    "from utils import sigma68, nmad, plot_photoz_estimates\n"
   ]
  },
  {
   "cell_type": "code",
   "execution_count": 174,
   "id": "4c8765a9-4a9f-4e7e-807b-2d8c42607f88",
   "metadata": {
    "tags": []
   },
   "outputs": [
    {
     "data": {
      "text/plain": [
       "Text(0, 0.5, '$z$')"
      ]
     },
     "execution_count": 174,
     "metadata": {},
     "output_type": "execute_result"
    },
    {
     "data": {
      "image/png": "[encoded data removed]",
      "text/plain": [
       "<Figure size 640x480 with 1 Axes>"
      ]
     },
     "metadata": {},
     "output_type": "display_data"
    }
   ],
   "source": [
    "from scipy.stats import gaussian_kde\n",
    "\n",
    "# Calculate the point density\n",
    "xy = np.vstack([ztrue[:,0],zmean])\n",
    "zd = gaussian_kde(xy)(xy)\n",
    "\n",
    "fig, ax = plt.subplots()\n",
    "plt.scatter(ztrue[:,0], zmean,c=zd, s=1)\n",
    "plt.xlim(0,2)\n",
    "plt.ylim(0,2)\n",
    "\n",
    "plt.xlabel(r'$z_{\\rm s}$', fontsize = 14)\n",
    "plt.ylabel('$z$', fontsize = 14)"
   ]
  },
  {
   "cell_type": "code",
   "execution_count": 148,
   "id": "cc17f62b-25b3-4fb4-91fe-6fd1784250e5",
   "metadata": {
    "tags": []
   },
   "outputs": [
    {
     "data": {
      "text/plain": [
       "0.05350374693936794"
      ]
     },
     "execution_count": 148,
     "metadata": {},
     "output_type": "execute_result"
    }
   ],
   "source": [
    "nmad(rerrz)"
   ]
  },
  {
   "cell_type": "code",
   "execution_count": 149,
   "id": "278143db-4624-4611-8ea6-ade236071bad",
   "metadata": {
    "tags": []
   },
   "outputs": [
    {
     "data": {
      "text/plain": [
       "0.06909074627010126"
      ]
     },
     "execution_count": 149,
     "metadata": {},
     "output_type": "execute_result"
    }
   ],
   "source": [
    "sigma68(rerrz)"
   ]
  },
  {
   "cell_type": "code",
   "execution_count": null,
   "id": "919876e3-7ff5-4625-9c6e-cfa2fd7a0a71",
   "metadata": {},
   "outputs": [],
   "source": []
  }
 ],
 "metadata": {
  "kernelspec": {
   "display_name": "DLenv2",
   "language": "python",
   "name": "dlenv2"
  },
  "language_info": {
   "codemirror_mode": {
    "name": "ipython",
    "version": 3
   },
   "file_extension": ".py",
   "mimetype": "text/x-python",
   "name": "python",
   "nbconvert_exporter": "python",
   "pygments_lexer": "ipython3",
   "version": "3.9.7"
  }
 },
 "nbformat": 4,
 "nbformat_minor": 5
}
