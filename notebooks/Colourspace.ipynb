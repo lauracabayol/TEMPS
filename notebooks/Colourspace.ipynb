{
 "cells": [
  {
   "cell_type": "code",
   "execution_count": 2,
   "id": "2899a039-94b5-4435-9f2a-6e047da46ff6",
   "metadata": {},
   "outputs": [],
   "source": [
    "import numpy as np\n",
    "import pandas as pd\n",
    "from astropy.io import fits\n",
    "import os\n",
    "from astropy.table import Table\n",
    "from scipy.spatial import KDTree\n",
    "\n",
    "import matplotlib.pyplot as plt\n",
    "\n",
    "from IPython.display import Image\n",
    "from IPython.core.display import HTML "
   ]
  },
  {
   "cell_type": "code",
   "execution_count": 3,
   "id": "92ae41a8-9627-46e8-81d1-29191e253f7f",
   "metadata": {},
   "outputs": [],
   "source": [
    "import torch\n",
    "from torch.utils.data import DataLoader, dataset, TensorDataset\n",
    "from torch import nn, optim\n",
    "from torch.optim import lr_scheduler"
   ]
  },
  {
   "cell_type": "code",
   "execution_count": 4,
   "id": "465d798e-a52c-423c-ac49-c37d5b1a3a8f",
   "metadata": {},
   "outputs": [],
   "source": [
    "import sys\n",
    "sys.path.append('../insight')\n",
    "from archive import archive \n",
    "from insight_arch import Photoz_network\n",
    "from insight import Insight_module\n",
    "from utils import sigma68, nmad, plot_photoz_estimates\n",
    "from scipy import stats\n",
    "from scipy.stats import norm\n"
   ]
  },
  {
   "cell_type": "code",
   "execution_count": 5,
   "id": "0efc8f49-a27b-4176-ae4f-3054786f41ff",
   "metadata": {},
   "outputs": [],
   "source": [
    "from matplotlib import rcParams\n",
    "rcParams[\"mathtext.fontset\"] = \"stix\"\n",
    "rcParams[\"font.family\"] = \"STIXGeneral\"\n",
    "parent_dir = '/data/astro/scratch/lcabayol/Euclid/NNphotozs/Euclid_EXT_MER_PHZ_DC2_v1.5'"
   ]
  },
  {
   "cell_type": "code",
   "execution_count": 78,
   "id": "4ddb6562-d708-4a47-a78f-7de8117afefa",
   "metadata": {},
   "outputs": [],
   "source": [
    "photoz_archive = archive(path = parent_dir,only_zspec=False,flags_kept=[1. , 1.1, 1.4, 1.5, 2,2.1,2.4,2.5,3., 3.1, 3.4, 3.5,  4., 9. , 9.1, 9.3, 9.4, 9.5,11.1, 11.5, 12.1, 12.5, 13. , 13.1, 13.5, 14, ], convert_colors=True)\n",
    "f, ferr, specz ,VIS_mag = photoz_archive.get_training_data()"
   ]
  },
  {
   "cell_type": "markdown",
   "id": "ce4ea81e-3678-4947-af87-b4bc4e247c29",
   "metadata": {},
   "source": [
    "## SOM TRAINING"
   ]
  },
  {
   "cell_type": "code",
   "execution_count": 8,
   "id": "2a21c8cc-c682-4008-b6bd-299c90576c3a",
   "metadata": {},
   "outputs": [],
   "source": [
    "import SOM"
   ]
  },
  {
   "cell_type": "code",
   "execution_count": 125,
   "id": "e27e5d57-156f-4363-8b7f-0f05f851b1f7",
   "metadata": {},
   "outputs": [],
   "source": [
    "nx, ny = 25,25\n",
    "epochs = 1_000_000"
   ]
  },
  {
   "cell_type": "code",
   "execution_count": 126,
   "id": "b722f505-59a5-4333-9bb7-1c5d176af0ba",
   "metadata": {},
   "outputs": [],
   "source": [
    "selforgmap = SOM.SOM(x = nx, \n",
    "                     y = ny, \n",
    "                     epochs = epochs, \n",
    "                     vec_size = 3, \n",
    "                     metric = 'Euclidean',\n",
    "                     lr0 = 0.001, \n",
    "                     sigma0 = 6, \n",
    "                     initialisation = 'RandomNormal'\n",
    "                    )"
   ]
  },
  {
   "cell_type": "code",
   "execution_count": 127,
   "id": "bca007d7-9feb-40f7-8bb4-fdfcdf661eab",
   "metadata": {},
   "outputs": [],
   "source": [
    "selforgmap.train(f, samples_epoch = 1)"
   ]
  },
  {
   "cell_type": "markdown",
   "id": "8763fae7-8af5-4ba0-8c30-b6aac4f09b37",
   "metadata": {},
   "source": [
    "## SOM VISUAIZATION IN THE SPEC-Z SAMPLE"
   ]
  },
  {
   "cell_type": "code",
   "execution_count": 150,
   "id": "a1dfe3f4-5625-4121-89f7-d59d803ce1b0",
   "metadata": {},
   "outputs": [],
   "source": [
    "f_test, _, specz_test ,VISmag = photoz_archive.get_testing_data()"
   ]
  },
  {
   "cell_type": "code",
   "execution_count": 151,
   "id": "d75eb21e-a87a-4fb9-b9bf-61542c43ed30",
   "metadata": {},
   "outputs": [],
   "source": [
    "bmu = selforgmap.test_obj(f_test)"
   ]
  },
  {
   "cell_type": "code",
   "execution_count": 152,
   "id": "1efb5055-9f2a-44e6-9a26-9fffc85ac457",
   "metadata": {},
   "outputs": [],
   "source": [
    "df = pd.DataFrame(np.c_[specz_test, bmu], columns = ['zs','cell'])"
   ]
  },
  {
   "cell_type": "code",
   "execution_count": 153,
   "id": "ae3c9304-d0bd-4c3d-9232-41d173234bdd",
   "metadata": {},
   "outputs": [],
   "source": [
    "som_vis = df.groupby('cell').zs.mean().reset_index().rename(columns = {'zs':'zs_som'})\n",
    "\n"
   ]
  },
  {
   "cell_type": "code",
   "execution_count": 154,
   "id": "c57dd19b-225a-4378-a895-667fa5b799fa",
   "metadata": {},
   "outputs": [],
   "source": [
    "x_cells = np.arange(0,nx)\n",
    "y_cells = np.arange(0,ny)\n",
    "index_cell = np.arange(nx*ny)\n",
    "cells = np.array(np.meshgrid(x_cells,y_cells)).T.reshape(-1,2)\n",
    "cells = pd.DataFrame(np.c_[cells[:,0],cells[:,1],index_cell], columns = ['x_cell','y_cell','cell'])"
   ]
  },
  {
   "cell_type": "code",
   "execution_count": 155,
   "id": "524e6c22-4e50-48b2-960b-4c48fb553de6",
   "metadata": {},
   "outputs": [],
   "source": [
    "som_data = som_vis.merge(cells, on = 'cell')\n",
    "som_data = som_data.pivot(index = 'x_cell', columns = 'y_cell', values = 'zs_som')"
   ]
  },
  {
   "cell_type": "code",
   "execution_count": 156,
   "id": "54bcfc2e-864a-4ebc-a0d1-303cbd602dd7",
   "metadata": {},
   "outputs": [
    {
     "data": {
      "text/plain": [
       "<matplotlib.colorbar.Colorbar at 0x2b2c1c878bb0>"
      ]
     },
     "execution_count": 156,
     "metadata": {},
     "output_type": "execute_result"
    },
    {
     "data": {
      "image/png": "[encoded data removed]",
      "text/plain": [
       "<Figure size 640x480 with 2 Axes>"
      ]
     },
     "metadata": {},
     "output_type": "display_data"
    }
   ],
   "source": [
    "plt.imshow(som_data, vmin = 0, vmax=4)\n",
    "plt.colorbar()"
   ]
  },
  {
   "cell_type": "markdown",
   "id": "06b4a006-f404-4e13-a4ea-ca5abd93f669",
   "metadata": {
    "tags": []
   },
   "source": [
    "## SOM VISUAIZATION IN THE TRAINING SAMPLE"
   ]
  },
  {
   "cell_type": "code",
   "execution_count": 135,
   "id": "07359f91-eb81-40e8-886c-8b845b8d1e96",
   "metadata": {},
   "outputs": [],
   "source": [
    "f, ferr, specz ,VIS_mag = photoz_archive.get_training_data()"
   ]
  },
  {
   "cell_type": "code",
   "execution_count": 136,
   "id": "807cc874-769b-4c4a-a499-6df524a9731e",
   "metadata": {},
   "outputs": [],
   "source": [
    "bmu = selforgmap.test_obj(f)"
   ]
  },
  {
   "cell_type": "code",
   "execution_count": 137,
   "id": "2b4d6675-4950-47ea-a0f8-98bcfae8377b",
   "metadata": {},
   "outputs": [],
   "source": [
    "df = pd.DataFrame(np.c_[specz, bmu], columns = ['zs','cell'])"
   ]
  },
  {
   "cell_type": "code",
   "execution_count": 142,
   "id": "8f163e3f-9d6e-43a5-abd9-c22ca24d9b1a",
   "metadata": {},
   "outputs": [],
   "source": [
    "som_vis = df.groupby('cell').zs.mean().reset_index().rename(columns = {'zs':'zs_som'})\n",
    "\n"
   ]
  },
  {
   "cell_type": "code",
   "execution_count": 143,
   "id": "cdead865-1dbe-4f23-859c-24d360ab87f1",
   "metadata": {},
   "outputs": [],
   "source": [
    "x_cells = np.arange(0,nx)\n",
    "y_cells = np.arange(0,ny)\n",
    "index_cell = np.arange(nx*ny)\n",
    "cells = np.array(np.meshgrid(x_cells,y_cells)).T.reshape(-1,2)\n",
    "cells = pd.DataFrame(np.c_[cells[:,0],cells[:,1],index_cell], columns = ['x_cell','y_cell','cell'])"
   ]
  },
  {
   "cell_type": "code",
   "execution_count": 144,
   "id": "c278f2a8-7c2c-4e1a-899a-da7d7430450b",
   "metadata": {},
   "outputs": [],
   "source": [
    "som_data = som_vis.merge(cells, on = 'cell')\n",
    "som_data = som_data.pivot(index = 'x_cell', columns = 'y_cell', values = 'zs_som')"
   ]
  },
  {
   "cell_type": "code",
   "execution_count": 145,
   "id": "53956233-3465-40d6-9316-6612edfc236a",
   "metadata": {},
   "outputs": [
    {
     "data": {
      "text/plain": [
       "<matplotlib.colorbar.Colorbar at 0x2b2c1c782160>"
      ]
     },
     "execution_count": 145,
     "metadata": {},
     "output_type": "execute_result"
    },
    {
     "data": {
      "image/png": "[encoded data removed]",
      "text/plain": [
       "<Figure size 640x480 with 2 Axes>"
      ]
     },
     "metadata": {},
     "output_type": "display_data"
    }
   ],
   "source": [
    "plt.imshow(som_data, vmin = 0, vmax=4)\n",
    "plt.colorbar()"
   ]
  },
  {
   "cell_type": "markdown",
   "id": "456f4ab6-fe27-4e28-8be6-2847de9ebbab",
   "metadata": {},
   "source": [
    "with predicted and PAUS redshifts"
   ]
  },
  {
   "cell_type": "code",
   "execution_count": null,
   "id": "e8847b26-70dd-4287-93c5-c04e66ee3112",
   "metadata": {},
   "outputs": [],
   "source": []
  },
  {
   "cell_type": "code",
   "execution_count": null,
   "id": "44c3104f-8057-409a-948d-6bfbd87f8080",
   "metadata": {},
   "outputs": [],
   "source": []
  },
  {
   "cell_type": "code",
   "execution_count": null,
   "id": "84e483fd-4981-443f-8c61-e6b263ffa167",
   "metadata": {},
   "outputs": [],
   "source": []
  },
  {
   "cell_type": "code",
   "execution_count": null,
   "id": "e3afd654-9116-485b-8921-5412d64d5fe5",
   "metadata": {},
   "outputs": [],
   "source": []
  }
 ],
 "metadata": {
  "kernelspec": {
   "display_name": "DLenv2",
   "language": "python",
   "name": "dlenv2"
  },
  "language_info": {
   "codemirror_mode": {
    "name": "ipython",
    "version": 3
   },
   "file_extension": ".py",
   "mimetype": "text/x-python",
   "name": "python",
   "nbconvert_exporter": "python",
   "pygments_lexer": "ipython3",
   "version": "3.9.7"
  }
 },
 "nbformat": 4,
 "nbformat_minor": 5
}
